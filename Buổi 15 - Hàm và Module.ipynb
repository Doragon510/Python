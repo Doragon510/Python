{
 "cells": [
  {
   "cell_type": "markdown",
   "id": "73456e5e",
   "metadata": {},
   "source": [
    "# Hàm\n",
    "\n",
    "### Hàm\n",
    "\n",
    "Cú pháp:\n",
    "\n",
    "`def <tên hàm>(<tham số)>:\n",
    "    //Nội dung hàm`\n",
    "\n",
    "Gọi hàm:\n",
    "`<tên hàm>(<giá trị đầu vào>)`\n",
    "\n",
    "Ví dụ:\n",
    "\n",
    "Hãy viết 1 hàm số để tính tổng 2 số đầu vào và in nó ra màn hình"
   ]
  },
  {
   "cell_type": "code",
   "execution_count": 6,
   "id": "af5b9f6d",
   "metadata": {},
   "outputs": [
    {
     "name": "stdout",
     "output_type": "stream",
     "text": [
      "5\n"
     ]
    }
   ],
   "source": [
    "def thaydoic(a):\n",
    "    global c\n",
    "    c = a\n",
    "c = 7\n",
    "\n",
    "thaydoic(5)\n",
    "print(c)"
   ]
  },
  {
   "cell_type": "code",
   "execution_count": 2,
   "id": "f1749dfa",
   "metadata": {},
   "outputs": [
    {
     "name": "stdout",
     "output_type": "stream",
     "text": [
      "Hàm trong biến:  7 5\n"
     ]
    },
    {
     "ename": "NameError",
     "evalue": "name 'a' is not defined",
     "output_type": "error",
     "traceback": [
      "\u001b[1;31m---------------------------------------------------------------------------\u001b[0m",
      "\u001b[1;31mNameError\u001b[0m                                 Traceback (most recent call last)",
      "Input \u001b[1;32mIn [2]\u001b[0m, in \u001b[0;36m<cell line: 5>\u001b[1;34m()\u001b[0m\n\u001b[0;32m      3\u001b[0m     \u001b[38;5;28mprint\u001b[39m(\u001b[38;5;124m'\u001b[39m\u001b[38;5;124mHàm trong biến: \u001b[39m\u001b[38;5;124m'\u001b[39m,a,b)\n\u001b[0;32m      4\u001b[0m biendoi(\u001b[38;5;241m5\u001b[39m,\u001b[38;5;241m7\u001b[39m)\n\u001b[1;32m----> 5\u001b[0m \u001b[38;5;28mprint\u001b[39m(\u001b[38;5;124m'\u001b[39m\u001b[38;5;124mHàm ngoài biến: \u001b[39m\u001b[38;5;124m'\u001b[39m,\u001b[43ma\u001b[49m,b)\n",
      "\u001b[1;31mNameError\u001b[0m: name 'a' is not defined"
     ]
    }
   ],
   "source": [
    "def biendoi(a,b): ## a và b là biến local\n",
    "    a, b = b, a\n",
    "    print('Hàm trong biến: ',a,b)\n",
    "biendoi(5,7)\n",
    "print('Hàm ngoài biến: ',a,b)"
   ]
  },
  {
   "cell_type": "code",
   "execution_count": 7,
   "id": "126ff8cf",
   "metadata": {},
   "outputs": [
    {
     "name": "stdout",
     "output_type": "stream",
     "text": [
      "10\n"
     ]
    }
   ],
   "source": [
    "def demo(a):\n",
    "    a = 7 \n",
    "    \n",
    "b = 10\n",
    "demo(b)\n",
    "print(b)"
   ]
  },
  {
   "cell_type": "markdown",
   "id": "a7c39f47",
   "metadata": {},
   "source": [
    "### Giá trị trả về của hàm\n",
    "\n",
    "# return\n",
    "\n",
    "Cú pháp:\n",
    "\n",
    "`retrun <giá trị trả về>`\n",
    "\n",
    "##### Lưu ý: Sau khi thực hiện lệnh return, chương trình sẽ thoát khỏi hàm ngay lập tức (những lệnh sau đó không được thực hiện)\n",
    "\n",
    "Ví dụ:\n",
    "\n",
    "Hãy viết 1 hàm trả về giá trị trung bình của 2 số bất kỳ"
   ]
  },
  {
   "cell_type": "code",
   "execution_count": 10,
   "id": "13619a7e",
   "metadata": {},
   "outputs": [
    {
     "name": "stdout",
     "output_type": "stream",
     "text": [
      "2\n"
     ]
    }
   ],
   "source": [
    "def trave2():\n",
    "    return 2\n",
    "a = trave2()\n",
    "print(a)"
   ]
  },
  {
   "cell_type": "code",
   "execution_count": 11,
   "id": "4b1886ac",
   "metadata": {},
   "outputs": [
    {
     "name": "stdout",
     "output_type": "stream",
     "text": [
      "2\n"
     ]
    }
   ],
   "source": [
    "def trave2():\n",
    "    return 2 # thoát hàm khi gặp return\n",
    "    return 7\n",
    "a = trave2()\n",
    "print(a)"
   ]
  },
  {
   "cell_type": "code",
   "execution_count": 13,
   "id": "7e4e7f11",
   "metadata": {},
   "outputs": [
    {
     "name": "stdout",
     "output_type": "stream",
     "text": [
      "4\n"
     ]
    }
   ],
   "source": [
    "def demo():\n",
    "    for i in range(10):\n",
    "        if i == 5:\n",
    "            return i - 1\n",
    "    return 0\n",
    "a = demo()\n",
    "print(a)"
   ]
  },
  {
   "cell_type": "code",
   "execution_count": 14,
   "id": "34324ede",
   "metadata": {},
   "outputs": [
    {
     "name": "stdout",
     "output_type": "stream",
     "text": [
      "3\n"
     ]
    }
   ],
   "source": [
    "def demo():\n",
    "    for i in range(10):\n",
    "        for j in range(15):\n",
    "            if i*j == 15:\n",
    "                return i ## thoát ra khi i = 1 và j = 15\n",
    "    return 0 ## câu lệnh vô nghĩa\n",
    "a = demo()\n",
    "print(a)"
   ]
  },
  {
   "cell_type": "code",
   "execution_count": 20,
   "id": "61ac3605",
   "metadata": {},
   "outputs": [
    {
     "name": "stdout",
     "output_type": "stream",
     "text": [
      "2\n"
     ]
    }
   ],
   "source": [
    "def chanle(a):\n",
    "    if a%2 == 0:\n",
    "        return 2\n",
    "    return 1\n",
    "print(chanle(6))"
   ]
  },
  {
   "cell_type": "code",
   "execution_count": 34,
   "id": "22752e05",
   "metadata": {},
   "outputs": [
    {
     "name": "stdout",
     "output_type": "stream",
     "text": [
      "True\n"
     ]
    }
   ],
   "source": [
    "def giaithua100(a):\n",
    "    S = 1\n",
    "    for i in range(a,0,-1):\n",
    "        S *= i\n",
    "    return S > 100\n",
    "print(giaithua100(5))"
   ]
  },
  {
   "cell_type": "markdown",
   "id": "1d7f8db0",
   "metadata": {},
   "source": [
    "### Bài tập"
   ]
  },
  {
   "cell_type": "markdown",
   "id": "75fb488b",
   "metadata": {},
   "source": [
    "Viết hàm kiểm tra số nguyên tố"
   ]
  },
  {
   "cell_type": "code",
   "execution_count": 50,
   "id": "63701bd7",
   "metadata": {},
   "outputs": [
    {
     "name": "stdout",
     "output_type": "stream",
     "text": [
      "Nhập số cần kiểm tra:17\n",
      "True\n"
     ]
    }
   ],
   "source": [
    "def snt(a):\n",
    "    if a < 2: return False\n",
    "    for i in range(2,a):\n",
    "        if a%i == 0:\n",
    "            return False\n",
    "    return True\n",
    "a = int(input('Nhập số cần kiểm tra:'))\n",
    "print(snt(a))"
   ]
  },
  {
   "cell_type": "markdown",
   "id": "221103cf",
   "metadata": {},
   "source": [
    "Nhập vào 3 điểm toán, lý, hóa\n",
    "\n",
    "Hãy viết hàm in điểm trung bung bình rồi tính điểm trung bình của toán lý, toán hóa, lý hóa và toán lý hóa"
   ]
  },
  {
   "cell_type": "code",
   "execution_count": 54,
   "id": "1ba1d8ae",
   "metadata": {},
   "outputs": [
    {
     "name": "stdout",
     "output_type": "stream",
     "text": [
      "Nhập điểm Toán: 8.6\n",
      "Nhập điểm Lý: 8.2\n",
      "Nhập điểm Hóa: 9\n",
      "Điểm trung bình Toán - Lý: 8.399999999999999\n",
      "Điểm trung bình Toán - Hóa: 8.8\n",
      "Điểm trung bình Lý - Hóa: 8.6\n",
      "Điểm trung bình Toán - Lý - Hóa: 8.6\n"
     ]
    }
   ],
   "source": [
    "a = float(input('Nhập điểm Toán: '))\n",
    "b = float(input('Nhập điểm Lý: '))\n",
    "c = float(input('Nhập điểm Hóa: '))\n",
    "\n",
    "def TB_2(F,S):\n",
    "    return (F + S) / 2\n",
    "\n",
    "def TB_3(F,S,T):\n",
    "    return (F + S + T) / 3\n",
    "\n",
    "print('Điểm trung bình Toán - Lý:',TB_2(a,b))\n",
    "print('Điểm trung bình Toán - Hóa:',TB_2(a,c))\n",
    "print('Điểm trung bình Lý - Hóa:',TB_2(b,c))\n",
    "print('Điểm trung bình Toán - Lý - Hóa:',TB_3(a,b,c))\n"
   ]
  },
  {
   "cell_type": "markdown",
   "id": "50f43307",
   "metadata": {},
   "source": [
    "Viết hàm đếm số lượng từ của một chuỗi đưa vào"
   ]
  },
  {
   "cell_type": "code",
   "execution_count": 57,
   "id": "be785b29",
   "metadata": {},
   "outputs": [
    {
     "name": "stdout",
     "output_type": "stream",
     "text": [
      "Nhập vào một chuỗi: Hello mọi người nha\n",
      "Chuỗi nhập vào gồm 4 từ\n"
     ]
    }
   ],
   "source": [
    "a = input('Nhập vào một chuỗi: ')\n",
    "\n",
    "def DemTu(b):\n",
    "    if b[-1] != \" \":\n",
    "        b += ' '\n",
    "    Count = 0\n",
    "    for i in b:\n",
    "        if i == ' ':\n",
    "            Count += 1\n",
    "    return Count\n",
    "\n",
    "print('Chuỗi nhập vào gồm',DemTu(a),'từ')"
   ]
  },
  {
   "cell_type": "markdown",
   "id": "b4adef40",
   "metadata": {},
   "source": [
    "Viết một hàm vẽ hình tròn, một hàm vẽ hình vuông và một hàm vẽ hình tam giác đều (giá trị đầu vào là a)\n",
    "\n",
    "Tất cả hàm này, bắt đầu từ 1 vị trí, sau khi vẽ ra, con trỏ sẽ tiến tới vị trí tiếp theo, cách vì đầu một khoảng a + 10 theo chiều x từ trái sang"
   ]
  },
  {
   "cell_type": "code",
   "execution_count": 1,
   "id": "e405d1d4",
   "metadata": {},
   "outputs": [
    {
     "name": "stdout",
     "output_type": "stream",
     "text": [
      "Nhập giá trị: 50\n"
     ]
    }
   ],
   "source": [
    "import turtle\n",
    "t = turtle.Turtle()\n",
    "\n",
    "a = int(input('Nhập giá trị: '))\n",
    "def tron(a):\n",
    "    t.circle(a/2)\n",
    "    t.pu()\n",
    "    t.fd(a/2 + 10)\n",
    "    t.pd()\n",
    "def vuong(a):\n",
    "    for i in range(4):\n",
    "        t.fd(a)\n",
    "        t.lt(90)\n",
    "    t.pu()\n",
    "    t.fd(a + 10)\n",
    "    t.pd()\n",
    "def tamgiac(a):\n",
    "    for i in range(3):\n",
    "        t.fd(a)\n",
    "        t.lt(120)\n",
    "    t.pu()\n",
    "    t.fd(a + 10)\n",
    "    t.pd()\n",
    "\n",
    "tron(a)\n",
    "vuong(a)\n",
    "tamgiac(a)"
   ]
  }
 ],
 "metadata": {
  "kernelspec": {
   "display_name": "Python 3 (ipykernel)",
   "language": "python",
   "name": "python3"
  },
  "language_info": {
   "codemirror_mode": {
    "name": "ipython",
    "version": 3
   },
   "file_extension": ".py",
   "mimetype": "text/x-python",
   "name": "python",
   "nbconvert_exporter": "python",
   "pygments_lexer": "ipython3",
   "version": "3.10.4"
  }
 },
 "nbformat": 4,
 "nbformat_minor": 5
}
