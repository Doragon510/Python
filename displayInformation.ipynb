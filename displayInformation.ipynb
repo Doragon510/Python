{
 "cells": [
  {
   "cell_type": "code",
   "execution_count": null,
   "id": "b9923f2f",
   "metadata": {},
   "outputs": [],
   "source": [
    "print('Đặng Huỳnh Long')\n",
    "print('05/10/1995')\n",
    "print('Đà Nẵng')\n",
    "print('Làm chủ kỹ năng phân tích dữ liệu')\n",
    "# Họ và tên, ngày sinh, địa chỉ, mục đích đến với khoá học Python."
   ]
  }
 ],
 "metadata": {
  "kernelspec": {
   "display_name": "Python 3 (ipykernel)",
   "language": "python",
   "name": "python3"
  },
  "language_info": {
   "codemirror_mode": {
    "name": "ipython",
    "version": 3
   },
   "file_extension": ".py",
   "mimetype": "text/x-python",
   "name": "python",
   "nbconvert_exporter": "python",
   "pygments_lexer": "ipython3",
   "version": "3.10.4"
  }
 },
 "nbformat": 4,
 "nbformat_minor": 5
}
