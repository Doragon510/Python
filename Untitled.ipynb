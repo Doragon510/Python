{
 "cells": [
  {
   "cell_type": "code",
   "execution_count": 4,
   "id": "cb3b1ee4",
   "metadata": {},
   "outputs": [
    {
     "name": "stdout",
     "output_type": "stream",
     "text": [
      "['diennt\\n', '123456abc\\n', 'ngocpham\\n', 'yeuthamlong\\n', 'thanhbinh\\n', '456abc']\n",
      "{'diennt': '123456abc', 'ngocpham': 'yeuthamlong', 'thanhbinh': '456abc'}\n",
      "Username: thanhbinh\n",
      "Password: 456abc\n",
      "Đăng nhập thành công\n"
     ]
    }
   ],
   "source": [
    "f = open('userdata.txt','r')\n",
    "data = f.readlines()\n",
    "print(data)\n",
    "\n",
    "L_user = []\n",
    "L_password = []\n",
    "\n",
    "for i in range(len(data)):\n",
    "    if i%2 == 0:\n",
    "        L_user.append(data[i].strip())\n",
    "    else:\n",
    "        L_password.append(data[i].strip())\n",
    "UserDict = {}\n",
    "for i in range(len(L_user)):\n",
    "    UserDict[L_user[i]] = L_password[i]\n",
    "print(UserDict)    \n",
    "def check(name,password,Dict):\n",
    "    for user in Dict:\n",
    "        if user == name and Dict[user] == password:\n",
    "            return True\n",
    "    return False\n",
    "\n",
    "username = input('Username: ')\n",
    "password = input('Password: ')\n",
    "\n",
    "if check(username,password,UserDict) : print(\"Đăng nhập thành công\")\n",
    "else: print(\"Đăng nhập thất bại\")"
   ]
  },
  {
   "cell_type": "code",
   "execution_count": 3,
   "id": "543b14ac",
   "metadata": {},
   "outputs": [
    {
     "name": "stdout",
     "output_type": "stream",
     "text": [
      "['diennt\\n', '123456abc\\n', 'ngocpham\\n', 'yeutham\\n', 'thanhbinh\\n', '456abc\\n', 'doragon510\\n', 'tranhayen\\n', 'cardyugi\\n', '12345']\n",
      "Username: doragon510\n",
      "Password: shin\n",
      "User đã tồn tại\n"
     ]
    }
   ],
   "source": [
    "f = open('userdata.txt','r')\n",
    "data = f.readlines()\n",
    "print(data)\n",
    "\n",
    "L_user = []\n",
    "L_password = []\n",
    "for i in range(len(data)):\n",
    "    if i%2 == 0:\n",
    "        L_user.append(data[i].strip())\n",
    "    else:\n",
    "        L_password.append(data[i].strip())\n",
    "\n",
    "username = input('Username: ')\n",
    "password = input('Password: ')\n",
    "if username in L_user : print(\"User đã tồn tại\")\n",
    "else: \n",
    "    f = open('userdata.txt','a')\n",
    "    f.write(username+'\\n')\n",
    "    f.write(password+'\\n')\n",
    "    print('Đăng ký thành công')\n",
    "    f.close()\n"
   ]
  }
 ],
 "metadata": {
  "kernelspec": {
   "display_name": "Python 3 (ipykernel)",
   "language": "python",
   "name": "python3"
  },
  "language_info": {
   "codemirror_mode": {
    "name": "ipython",
    "version": 3
   },
   "file_extension": ".py",
   "mimetype": "text/x-python",
   "name": "python",
   "nbconvert_exporter": "python",
   "pygments_lexer": "ipython3",
   "version": "3.10.4"
  }
 },
 "nbformat": 4,
 "nbformat_minor": 5
}
