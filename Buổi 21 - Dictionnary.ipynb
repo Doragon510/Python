{
 "cells": [
  {
   "cell_type": "markdown",
   "id": "a20f121d",
   "metadata": {},
   "source": [
    "# Dictionnary\n",
    "\n",
    "Dictionnary là một dạng list đặc biệt, nó khác list ở chỗ không lưu trữ các giá trị theo chỉ số vị trí, thay vào đó Dictionary sẽ lưu trữ các giá trị theo key\n",
    "\n",
    "##### Tài liệu tham khảo: https://www.w3schools.com/python/python_dictionaries.asp\n",
    "\n",
    "### Khai báo một dictionary\n",
    "\n",
    "Cú pháp:\n",
    "\n",
    "`<tên dictionary> = {}`\n",
    "\n",
    "### Dictionary được khai báo bằng hai dấu hoặc nhọn\n",
    "\n",
    "Đây là một dictionary rỗng\n",
    "\n",
    "<b>Ví dụ 1:</b>\n",
    "\n",
    "`a = {}`\n",
    "\n",
    "a là một dictionary rỗng\n",
    "\n",
    "<b>Ví dụ 2:</b>\n",
    "\n",
    "`a = {\"tên\": \"Nguyễn Tâm Điền\", \"tuổi\": 13, \"giới tính\": \"Nam\"}`\n",
    "\n",
    "b là một dictionary có 3 key, mõi key đều có một giá trị riêng biệt\n",
    "\n",
    "Key có thể mang kiểu dữ liệu là chuỗi hoặc số\n",
    "\n",
    "##### Mỗi một key đều phải có giá trị của riêng nó, không thể khai báo key không có giá trị\n",
    "\n",
    "<b>Hãy khai báo một dictionary có 3 phần tử</b>"
   ]
  },
  {
   "cell_type": "code",
   "execution_count": 3,
   "id": "d835f461",
   "metadata": {},
   "outputs": [
    {
     "name": "stdout",
     "output_type": "stream",
     "text": [
      "3\n",
      "LoL\n"
     ]
    }
   ],
   "source": [
    "D = {'book':'Grimgar','game':'Genshin','job':'auditor','game':'LoL'}\n",
    "print(len(D)) # nếu khai báo trùng key, giá trị sau sẽ ghi đè giá trị trước\n",
    "print(D['game'])"
   ]
  },
  {
   "cell_type": "markdown",
   "id": "be1e321c",
   "metadata": {},
   "source": [
    "### Thêm key vào dictionary\n",
    "\n",
    "Cú pháp:\n",
    "\n",
    "`<tên dictionary>[<key>] = <giá trị>`\n",
    "\n",
    "<b>Ví dụ 1:</b>\n",
    "\n",
    "`a = {}\n",
    "a[\"tên\"] = \"NTD\"`\n",
    "\n",
    "a là một dictionary có một phần tử, phần tử đó có key là \"tên\" và giá trị của key đó là \"NTD\"\n",
    "\n",
    "##### Lưu ý, nếu trong trường hợp đã tồn tại key trong dictionary, dùng lệnh trên sẽ thay đổi giá trị key đó (không phải thêm key khác vào)\n",
    "\n",
    "<b>Ví dụ 2:</b>\n",
    "\n",
    "`a = {}\n",
    "a[\"tên\"] = \"NTD\"\n",
    "a[\"tên\"] = \"Nguyễn Tâm Điền\"`\n",
    "\n",
    "a vẫn là một dictionary có một phần tử, phần tử đó có key là \"tên\" và giá trị của key đó là \"Nguyễn Tâm Điền\"\n",
    "\n",
    "<b>Hãy khai báo một dictionary không có phần tử nào, sau đó thêm một phần tử vào dictionary đó</b>"
   ]
  },
  {
   "cell_type": "code",
   "execution_count": 5,
   "id": "7573ebef",
   "metadata": {},
   "outputs": [
    {
     "name": "stdout",
     "output_type": "stream",
     "text": [
      "{'book': 'Grimgar', 'game': 'fate/GO', 'job': 'auditor', 'age': '27'}\n"
     ]
    }
   ],
   "source": [
    "D = {'book':'Grimgar','game':'Genshin','job':'auditor','game':'LoL'}\n",
    "D['age'] = '27' # lệnh thêm giá trị\n",
    "D['game'] = 'fate/GO' # lệnh thay đổi giá trị\n",
    "print(D)"
   ]
  },
  {
   "cell_type": "code",
   "execution_count": 6,
   "id": "41648eba",
   "metadata": {},
   "outputs": [
    {
     "name": "stdout",
     "output_type": "stream",
     "text": [
      "Nhập vào key: abc\n",
      "Nhập vào value: bxc\n",
      "Nhập vào key: aeb\n",
      "Nhập vào value: csg\n",
      "Nhập vào key: abc\n",
      "Nhập vào key: sgew\n",
      "Nhập vào value: hwc\n",
      "Nhập vào key: \n",
      "{'abc': 'bxc', 'aeb': 'csg', 'sgew': 'hwc'}\n"
     ]
    }
   ],
   "source": [
    "D = {}\n",
    "while True:\n",
    "    key = input('Nhập vào key: ')\n",
    "    if key == \"\":\n",
    "        break\n",
    "    if key not in D:\n",
    "        value = input('Nhập vào value: ')\n",
    "        D[key] = value\n",
    "print(D)"
   ]
  },
  {
   "cell_type": "markdown",
   "id": "65c98825",
   "metadata": {},
   "source": [
    "### Truy xuất phần tử trong dictionary\n",
    "\n",
    "Cú pháp:\n",
    "\n",
    "`<tên dictionary>[<key>]`\n",
    "\n",
    "<b>Ví dụ:</b>\n",
    "\n",
    "`a = {\"tên\": \"Nguyễn Tâm Điền\", \"tuổi\": 13, \"giới tính\": \"Nam\"}\n",
    "print(a[\"tên\"])`\n",
    "\n",
    "Màn hình sẽ in: Nguyễn Tâm Điền\n",
    "\n",
    "<b>Hãy khai báo một dictionary rồi in ra màn hình một phần tử bất kỳ trong dictionary đó</b>"
   ]
  },
  {
   "cell_type": "code",
   "execution_count": 8,
   "id": "f6159385",
   "metadata": {},
   "outputs": [
    {
     "name": "stdout",
     "output_type": "stream",
     "text": [
      "Genshin\n"
     ]
    }
   ],
   "source": [
    "D = {'book':'Grimgar','game':'Genshin','job':'auditor'}\n",
    "\n",
    "print(D['game'])"
   ]
  },
  {
   "cell_type": "markdown",
   "id": "afa92f87",
   "metadata": {},
   "source": [
    "### Sao chép dictionary\n",
    "\n",
    "##### Việc sao chép dictionary được thực hiện hệt như sao chép list, chúng ta cần phải sử dụng lệnh copy()"
   ]
  },
  {
   "cell_type": "markdown",
   "id": "ef7e800d",
   "metadata": {},
   "source": [
    "### Duyệt dictionary bằng lệnh for\n",
    "\n",
    "Cú pháp:\n",
    "\n",
    "`for <tên biến> in <tên dictionary>:`\n",
    "\n",
    "Biến sẽ có giá trị là từng key trong dictionary\n",
    "\n",
    "<b>Ví dụ:</b>\n",
    "\n",
    "`a = {\"tên\": \"Nguyễn Tâm Điền\", \"tuổi\": 13, \"giới tính\": \"Nam\"}\n",
    "for i in a:\n",
    "    print(i)`\n",
    "    \n",
    "Màn hình sẽ in ra:\n",
    "\n",
    "tên\n",
    "\n",
    "tuổi\n",
    "\n",
    "giới tính\n",
    "\n",
    "<b>Hãy khai báo một dictionary rồi in ra màn hình toàn bộ giá trị trong dictionary đó</b>"
   ]
  },
  {
   "cell_type": "code",
   "execution_count": 9,
   "id": "3bdd1508",
   "metadata": {},
   "outputs": [
    {
     "name": "stdout",
     "output_type": "stream",
     "text": [
      "book Grimgar\n",
      "game Genshin\n",
      "job auditor\n"
     ]
    }
   ],
   "source": [
    "D = {'book':'Grimgar','game':'Genshin','job':'auditor'}\n",
    "for i in D:\n",
    "    print(i,D[i])"
   ]
  },
  {
   "cell_type": "markdown",
   "id": "1982f4b1",
   "metadata": {},
   "source": [
    "### Bài tập"
   ]
  },
  {
   "cell_type": "markdown",
   "id": "3060a950",
   "metadata": {},
   "source": [
    "Viết chương trình đếm số lần xuất hiện của một từ trong một văn bản nhất định"
   ]
  },
  {
   "cell_type": "code",
   "execution_count": 2,
   "id": "af64832c",
   "metadata": {},
   "outputs": [
    {
     "name": "stdout",
     "output_type": "stream",
     "text": [
      "{'Trưởng': 1, 'phòng': 4, 'tôi': 11, 'là': 6, 'người': 2, 'sâu': 1, 'sắc': 1, 'lại': 4, 'cũng': 2, 'lắm': 2, 'sáng': 3, 'kiến': 1, 'đến': 3, 'cái': 3, 'mức': 1, 'có': 6, 'khi': 1, 'bọn': 1, 'chúng': 2, 'trong': 2, 'cơ': 2, 'quan': 1, 'phát': 1, 'mệt': 1, 'vì': 1, 'anh': 9, 'Trước': 1, 'đây': 1, 'chừng': 2, 'dăm': 1, 'tháng': 8, 'để': 1, 'chuẩn': 1, 'bị': 1, 'cho': 5, 'tấm': 2, 'lịch': 1, 'năm': 6, 'sau': 2, 'tỏ': 1, 'ý': 2, 'không': 3, 'bằng': 3, 'lòng': 2, 'với': 5, 'cách': 1, 'làm': 2, 'ăn': 1, 'từ': 2, 'trước': 2, 'tới': 1, 'giờ': 2, 'Sang': 1, 'ta': 1, 'sẽ': 1, 'đem': 1, 'mỗi': 2, 'gia': 1, 'đình': 1, 'một': 9, 'bộ': 2, 'sưu': 2, 'tập': 2, 'chuyên': 2, 'đề': 2, 'về': 3, 'thuyền': 2, 'và': 3, 'biển': 4, 'nói': 2, 'quả': 2, 'quyết': 1, 'Thôi': 1, 'bỏ': 1, 'lối': 1, 'thứ': 1, 'tí': 1, 'đi': 4, 'Phải': 1, '12': 2, 'bức': 4, 'ảnh': 5, 'nghệ': 2, 'thuật': 2, 'Không': 1, 'Hoàn': 1, 'toàn': 1, 'thế': 2, 'giới': 1, 'tĩnh': 1, 'vật': 1, 'Chúng': 1, 'xách': 2, 'máy': 3, 'lên': 1, 'đường': 1, 'suy': 1, 'nghĩ': 3, 'chọn': 2, 'cảnh': 2, 'bấm': 1, 'suốt': 1, 'Và': 2, 'tất': 1, 'cả': 1, 'những': 3, 'gì': 2, 'thu': 1, 'được': 2, 'ánh': 1, 'đen': 1, 'trắng': 1, 'trên': 2, 'giấy': 1, 'đang': 3, 'bày': 1, 'ra': 2, 'la': 1, 'liệt': 1, 'hai': 2, 'chiếc': 1, 'bàn': 1, 'ghép': 1, 'tình': 2, 'lúc': 1, 'đó': 1, 'đã': 3, 'lấy': 2, 'đoán': 1, 'chắc': 1, 'còn': 3, 'phải': 2, 'chụp': 2, 'bổ': 1, 'sung': 1, 'như': 2, 'mọi': 2, 'nữa': 2, 'Làn': 1, 'khói': 1, 'thuốc': 1, 'lá': 1, 'cuộn': 1, 'phun': 1, 'mù': 1, 'mịt': 1, 'cặp': 1, 'mắt': 2, 'đầy': 1, 'tinh': 1, 'khôn': 1, 'của': 2, 'trưởng': 3, 'nheo': 1, 'kính': 1, 'lão': 1, 'Đột': 1, 'nhiên': 1, 'quay': 1, 'sang': 1, 'phía': 1, 'hỏi': 1, 'Bây': 1, 'mấy': 1, 'nhỉ': 1, 'Tháng': 2, 'bảy': 1, 'Tôi': 1, 'đáp': 1, 'vẻ': 2, 'dè': 1, 'này': 2, 'ở': 1, 'vẫn': 2, 'sương': 3, 'chứ': 2, 'Chỉ': 1, 'bão': 1, 'táp': 1, 'động': 1, 'Muốn': 1, 'thì': 2, 'ba': 1, 'Này': 1, 'Phùng': 1, 'dường': 1, 'nhìn': 1, 'thấy': 1, 'rõ': 1, 'ngần': 1, 'ngại': 1, 'nên': 1, 'vừa': 2, 'nhăn': 1, 'nhó': 1, 'mặt': 1, 'lộ': 1, 'đau': 1, 'khổ': 1, 'đủ': 2, 'Anh': 1, 'giúp': 1, 'thêm': 1, 'buổi': 1, 'Trời': 1, 'ơi': 1, 'nhặt': 1, 'ngay': 1, 'tầm': 1, 'tay': 1, 'hàng': 1, 'trăm': 1, 'đẹp': 2, 'công': 1, 'phu': 1, 'mà': 1, 'Đẹp': 1, 'thực': 2, 'cướp': 1, 'lời': 1, 'nhất': 1, 'hồn': 1, 'Đúng': 1, 'Nói': 1, 'nay': 1, 'các': 1, 'khác': 2, 'nào': 1, 'ít': 1, 'nhiều': 1, 'thích': 1, 'Nhưng': 1, 'thể': 1, 'mười': 1, 'thiếu': 1, 'tờ': 1}\n"
     ]
    }
   ],
   "source": [
    "vanban = '''Trưởng phòng tôi là người sâu sắc, lại cũng lắm sáng kiến đến cái mức có khi bọn chúng tôi trong cơ quan phát mệt vì anh.\n",
    "Trước đây chừng dăm tháng, để chuẩn bị cho tấm lịch năm sau, anh tỏ ý không bằng lòng với cách làm ăn từ trước tới giờ - Sang năm chúng ta sẽ đem đến cho mỗi gia đình một bộ sưu tập chuyên đề về thuyền và biển - anh nói quả quyết - Thôi, bỏ cái lối mỗi thứ một tí đi. Phải có một bộ sưu tập chuyên đề. 12 tháng là 12 bức ảnh nghệ thuật về thuyền và biển. Không có người. Hoàn toàn thế giới tĩnh vật.\n",
    "Chúng tôi xách máy lên đường, suy nghĩ, chọn cảnh, bấm máy suốt năm tháng. Và tất cả những gì thu được bằng ánh sáng đen trắng trên giấy ảnh đang được bày ra la liệt trên hai chiếc bàn ghép lại, và quả tình lúc đó tôi đã lấy làm bằng lòng lắm, đoán chắc không còn phải xách máy đi chụp bổ sung như mọi năm nữa.\n",
    "Làn khói thuốc lá cuộn phun ra mù mịt trước cặp mắt đầy tinh khôn của trưởng phòng đang nheo lại sau mắt kính lão. Đột nhiên trưởng phòng quay sang phía tôi hỏi:\n",
    "- Bây giờ đã là tháng mấy nhỉ?\n",
    "- Tháng bảy. - Tôi đáp với một vẻ dè chừng.\n",
    "- Tháng này ở biển vẫn còn sương chứ?\n",
    "- Chỉ có bão táp với biển động. Muốn lấy sương thì phải nghĩ đến từ tháng ba cơ.\n",
    "- Này anh Phùng - trưởng phòng dường như đã nhìn thấy rõ mọi ý nghĩ ngần ngại của tôi, cho nên anh vừa nói vừa nhăn nhó cái mặt lộ vẻ đau khổ - tôi cho anh một tháng, một tháng là đủ chứ gì?... Anh giúp tôi thêm một cảnh buổi sáng có sương đi.\n",
    "- Trời ơi - tôi nhặt một bức ảnh ngay trong tầm tay - với hàng trăm bức ảnh đẹp, chụp công phu thế này mà anh... - Đẹp thì đẹp thực - anh cướp lời tôi - Và nhất là lại có hồn nữa. Đúng là những bức ảnh nghệ thuật. Nói thực tình năm nay các anh đi về, khác với những năm khác, tấm nào ít nhiều tôi cũng thích. Nhưng không thể chọn đủ cho mười hai tháng, vẫn đang còn thiếu một tờ.'''\n",
    "\n",
    "for i in ['.',',',':','?','(',')','-','!','\"\"']:\n",
    "    vanban = vanban.replace(i,'')\n",
    "vanban = vanban.split()\n",
    "\n",
    "D = {}\n",
    "i = 0\n",
    "while i < len(vanban):\n",
    "    key = vanban[i]\n",
    "    i += 1\n",
    "    if key in D:\n",
    "        D[key] += 1\n",
    "    else:\n",
    "        D[key] = 1\n",
    "        \n",
    "print(D)\n"
   ]
  },
  {
   "cell_type": "markdown",
   "id": "57c6f1e7",
   "metadata": {},
   "source": [
    "Viết chương trình cho phép người dùng quản lý sản phẩm, gồm các chức năng sau: \n",
    "\n",
    "- Hiển thị danh sách sản phẩm\n",
    "- Thêm sản phẩm mới vào danh sách\n",
    "- Sửa tên của sản phẩm trong danh sách\n",
    "- Xoá một sản phẩm khỏi danh sách"
   ]
  },
  {
   "cell_type": "code",
   "execution_count": null,
   "id": "8541b8c3",
   "metadata": {},
   "outputs": [],
   "source": [
    "### Đầu tiên in ra các nút chức năng:\n",
    "#### Nhập H - hiển thị sản phẩm\n",
    "#### Nhập T - thêm sản phẩm\n",
    "#### Nhập S - sửa sản phẩm\n",
    "#### Nhập X - xóa sản phẩm\n",
    "#### Nhập 0 để thoát chương trình\n",
    "\n",
    "#### Nếu nhập H thì hiển thị danh sách sản phẩm theo form:\n",
    "### ----------------\n",
    "###\n",
    "### 1:Phở bò\n",
    "### 2:Phở gà\n",
    "###\n",
    "### ----------------\n",
    "\n",
    "#### Nếu nhập T - thêm sản phẩm:\n",
    "###### Kêu cầu người dùng nhập vào ID (nếu nhập ID là 0 thì thoát chức năng)\n",
    "###### Nếu người dùng nhập ID đã tồn tại yêu cầu nhập lại cho đến khi nhập ID chưa tồn tại\n",
    "###### Nếu người dùng nhập ID chưa tồn tại, yêu cầu người dùng nhập tên sản phẩm rồi thêm sản phẩm vào danh sách\n",
    "\n",
    "#### Nếu nhập S - sửa sản phẩm:\n",
    "###### Kêu cầu người dùng nhập vào ID (nếu nhập ID là 0 thì thoát chức năng)\n",
    "###### Nếu người dùng nhập ID chưa tồn tại, yêu cầu người dùng nhập lại cho đến nhập ID đã tồn tại\n",
    "###### Nếu người dùng nhập ID đã tồn tại, yêu cầu người dùng nhập tên mới muốn sửa rồi sửa tên sản phẩm\n",
    "\n",
    "#### Nếu nhập X - xóa sản phẩm:\n",
    "###### Kêu cầu người dùng nhập vào ID (nếu nhập ID là 0 thì thoát chức năng)\n",
    "###### Nếu người dùng nhập ID chưa tồn tại, yêu cầu người dùng nhập lại cho đến nhập ID đã tồn tại\n",
    "###### Nếu người dùng nhập ID đã tồn tại, hỏi người dùng:\n",
    "###### Bạn có chắc muốn xóa sản phẩm này không? Nếu có gõ C, ngược lại gõ bất kỳ\n",
    "\n",
    "print('Nhập H - hiển thị sản phẩm')\n",
    "print('Nhập T - thêm sản phẩm')\n",
    "print('Nhập S - sửa sản phẩm')\n",
    "print('Nhập X - xóa sản phẩm')\n",
    "print('Nhập 0 để thoát chương trình')\n",
    "\n",
    "Menu = {'1':'Phở bò','2':'Phở gà'}\n",
    "\n",
    "def hien_thi_san_pham:\n",
    "    for i in Menu:\n",
    "        print(i,Menu[i])\n",
    "\n",
    "def them_san_pham:\n",
    "    a = input('Nhập vào ID sản phẩm: ')\n",
    "    if a = '0':\n",
    "        return\n",
    "        while a not in Menu:\n",
    "            Menu[a] = \"\"\n",
    "            b = input('Nhập vào tên sản phẩm: ')"
   ]
  },
  {
   "cell_type": "code",
   "execution_count": 6,
   "id": "0dcefe30",
   "metadata": {},
   "outputs": [
    {
     "ename": "TypeError",
     "evalue": "can only concatenate str (not \"int\") to str",
     "output_type": "error",
     "traceback": [
      "\u001b[1;31m---------------------------------------------------------------------------\u001b[0m",
      "\u001b[1;31mTypeError\u001b[0m                                 Traceback (most recent call last)",
      "Input \u001b[1;32mIn [6]\u001b[0m, in \u001b[0;36m<cell line: 12>\u001b[1;34m()\u001b[0m\n\u001b[0;32m     10\u001b[0m k \u001b[38;5;241m=\u001b[39m \u001b[38;5;241m3\u001b[39m\n\u001b[0;32m     11\u001b[0m string \u001b[38;5;241m=\u001b[39m \u001b[38;5;124m'\u001b[39m\u001b[38;5;124mAABCAAADA\u001b[39m\u001b[38;5;124m'\u001b[39m\n\u001b[1;32m---> 12\u001b[0m \u001b[43mmerge_the_tools\u001b[49m\u001b[43m(\u001b[49m\u001b[43mstring\u001b[49m\u001b[43m,\u001b[49m\u001b[43mk\u001b[49m\u001b[43m)\u001b[49m\n",
      "Input \u001b[1;32mIn [6]\u001b[0m, in \u001b[0;36mmerge_the_tools\u001b[1;34m(string, k)\u001b[0m\n\u001b[0;32m      7\u001b[0m \u001b[38;5;28;01mdef\u001b[39;00m \u001b[38;5;21mmerge_the_tools\u001b[39m(string, k):\n\u001b[0;32m      8\u001b[0m     \u001b[38;5;28;01mfor\u001b[39;00m i \u001b[38;5;129;01min\u001b[39;00m \u001b[38;5;28mrange\u001b[39m(\u001b[38;5;241m0\u001b[39m,\u001b[38;5;28mlen\u001b[39m(string),k):\n\u001b[1;32m----> 9\u001b[0m         \u001b[38;5;28mprint\u001b[39m(\u001b[43mremove_repeat_char\u001b[49m\u001b[43m(\u001b[49m\u001b[43mstring\u001b[49m\u001b[43m[\u001b[49m\u001b[43mi\u001b[49m\u001b[43m:\u001b[49m\u001b[43mi\u001b[49m\u001b[38;5;241;43m+\u001b[39;49m\u001b[43mk\u001b[49m\u001b[43m]\u001b[49m\u001b[43m)\u001b[49m)\n",
      "Input \u001b[1;32mIn [6]\u001b[0m, in \u001b[0;36mremove_repeat_char\u001b[1;34m(string)\u001b[0m\n\u001b[0;32m      3\u001b[0m \u001b[38;5;28;01mfor\u001b[39;00m i \u001b[38;5;129;01min\u001b[39;00m string:\n\u001b[0;32m      4\u001b[0m     \u001b[38;5;28;01mif\u001b[39;00m i \u001b[38;5;129;01mnot\u001b[39;00m \u001b[38;5;129;01min\u001b[39;00m kq:\n\u001b[1;32m----> 5\u001b[0m         kq \u001b[38;5;241m+\u001b[39m\u001b[38;5;241m=\u001b[39m \u001b[38;5;241m1\u001b[39m\n\u001b[0;32m      6\u001b[0m     \u001b[38;5;28;01mreturn\u001b[39;00m kq\n",
      "\u001b[1;31mTypeError\u001b[0m: can only concatenate str (not \"int\") to str"
     ]
    }
   ],
   "source": [
    "def remove_repeat_char(string):\n",
    "    kq = \"\"\n",
    "    for i in string:\n",
    "        if i not in kq:\n",
    "            kq += i\n",
    "    return kq\n",
    "def merge_the_tools(string, k):\n",
    "    for i in range(0,len(string),k):\n",
    "        print(remove_repeat_char(string[i:i+k])) # your code goes here\n",
    "k = 3\n",
    "string = 'AABCAAADA'\n",
    "merge_the_tools(string,k)"
   ]
  },
  {
   "cell_type": "code",
   "execution_count": 1,
   "id": "4225ceaf",
   "metadata": {},
   "outputs": [
    {
     "ename": "SyntaxError",
     "evalue": "invalid syntax (4252949917.py, line 3)",
     "output_type": "error",
     "traceback": [
      "\u001b[1;36m  Input \u001b[1;32mIn [1]\u001b[1;36m\u001b[0m\n\u001b[1;33m    def hien_thi_san_pham:\u001b[0m\n\u001b[1;37m                         ^\u001b[0m\n\u001b[1;31mSyntaxError\u001b[0m\u001b[1;31m:\u001b[0m invalid syntax\n"
     ]
    }
   ],
   "source": [
    "Menu = {'1':'Phở bò','2':'Phở gà'}\n",
    "\n",
    "def hien_thi_san_pham:\n",
    "    for i in Menu:\n",
    "        print(i,Menu[i])\n",
    "\n",
    "hien_thi_san_pham"
   ]
  }
 ],
 "metadata": {
  "kernelspec": {
   "display_name": "Python 3 (ipykernel)",
   "language": "python",
   "name": "python3"
  },
  "language_info": {
   "codemirror_mode": {
    "name": "ipython",
    "version": 3
   },
   "file_extension": ".py",
   "mimetype": "text/x-python",
   "name": "python",
   "nbconvert_exporter": "python",
   "pygments_lexer": "ipython3",
   "version": "3.10.4"
  }
 },
 "nbformat": 4,
 "nbformat_minor": 5
}
