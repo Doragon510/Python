{
 "cells": [
  {
   "cell_type": "code",
   "execution_count": 5,
   "id": "35e8acf8",
   "metadata": {},
   "outputs": [
    {
     "name": "stdout",
     "output_type": "stream",
     "text": [
      "<mysql.connector.connection_cext.CMySQLConnection object at 0x00000226982F29E0>\n"
     ]
    }
   ],
   "source": [
    "import mysql.connector\n",
    "from datetime import datetime\n",
    "\n",
    "mydb = mysql.connector.connect(\n",
    "    host = 'localhost',\n",
    "    user = 'root',\n",
    "    password = '',\n",
    "    database = 'doragon'\n",
    ")\n",
    "\n",
    "mycursor = mydb.cursor()\n",
    "sql = '### mã SQL'\n",
    "Ngày giờ = datetime.now().strftime()\n",
    "sql = 'INSERT INTO chi tiêu (Nội dung,Số tiền,Ngày giờ)'\n",
    "mycursor.execute(sql)\n",
    "\n",
    "print(mydb)"
   ]
  }
 ],
 "metadata": {
  "kernelspec": {
   "display_name": "Python 3 (ipykernel)",
   "language": "python",
   "name": "python3"
  },
  "language_info": {
   "codemirror_mode": {
    "name": "ipython",
    "version": 3
   },
   "file_extension": ".py",
   "mimetype": "text/x-python",
   "name": "python",
   "nbconvert_exporter": "python",
   "pygments_lexer": "ipython3",
   "version": "3.10.4"
  }
 },
 "nbformat": 4,
 "nbformat_minor": 5
}
