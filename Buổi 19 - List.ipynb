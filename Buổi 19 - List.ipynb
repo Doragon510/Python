{
 "cells": [
  {
   "cell_type": "markdown",
   "id": "fad0ff18",
   "metadata": {},
   "source": [
    "# List\n",
    "\n",
    "### Đặt vấn đề\n",
    "\n",
    "Nếu như ta có một lượng dữ liệu không biết trước được số lượng cần lưu vào biến, ta không thể lưu bằng cách thông thường\n",
    "\n",
    "Lấy ví dụ:\n",
    "\n",
    "Nhập vào số n, sau đó nhập tiếp n số và lưu trữ n số đó vào biến\n",
    "\n",
    "Vậy ta hoàn toàn không biết được người dùng sẽ nhập bao nhiêu số để lưu trữ\n",
    "\n",
    "Lúc này ta cần đến List\n",
    "\n",
    "List giúp chúng ta lưu nhiều giá trị cùng 1 lúc, nhưng chỉ cần đặt tên cho nó lần\n",
    "\n",
    "##### Tài liệu tham khảo: https://www.w3schools.com/python/python_lists.asp"
   ]
  },
  {
   "cell_type": "markdown",
   "id": "4ca9e91e",
   "metadata": {},
   "source": [
    "### Cách thức khai báo List\n",
    "\n",
    "Cú pháp:\n",
    "\n",
    "`<tên list> = []`\n",
    "\n",
    "##### List được khai báo bằng 2 dấu ngoặc vuông\n",
    "\n",
    "<b> Ví dụ 1: </b>\n",
    "\n",
    "`a = []`\n",
    "\n",
    "a là một list, không có bất kỳ phần tử nào trong đó\n",
    "\n",
    "<b> Ví dụ 2: </b>\n",
    "\n",
    "`b = [1,2,3]`\n",
    "\n",
    "##### Các phần tử trong list được khai báo, mỗi phần tử cách nhau một dấu phẩy\n",
    "\n",
    "b là một list có 3 phần tử\n",
    "\n",
    "<b> Ví dụ 3: </b>\n",
    "\n",
    "`c = [\"abc\",5,1.5]`\n",
    "\n",
    "##### Các phần tử trong list có thể có những kiểu dữ liệu khác nhau\n",
    "\n",
    "c là một list có 3 phần tử, phần tử thứ nhất có kiểu dữ liệu là chuỗi, phần tử thứ hai có kiểu dữ liệu là số nguyên và phần tử cuối cùng có kiểu dữ liệu là số thực\n",
    "\n",
    "<b> Hãy khai báo một list xong rồi in list đó lên màn hình </b>"
   ]
  },
  {
   "cell_type": "code",
   "execution_count": 2,
   "id": "c2f37351",
   "metadata": {},
   "outputs": [
    {
     "name": "stdout",
     "output_type": "stream",
     "text": [
      "[0, 5, 1, 0, 1, 9, 9, 5]\n"
     ]
    }
   ],
   "source": [
    "doragon = [0,5,1,0,1,9,9,5]\n",
    "print(doragon)"
   ]
  },
  {
   "cell_type": "markdown",
   "id": "be8e19b0",
   "metadata": {},
   "source": [
    "### Truy xuất phần tử trong List\n",
    "\n",
    "Giống như chuỗi, các phần tử trong list được truy xuất theo cú pháp:\n",
    "\n",
    "`<tên list>[<vị trí của phần tử>]`\n",
    "\n",
    "<b> Ví dụ 1: </b>\n",
    "\n",
    "`a = [1,4,6]\n",
    "print(a[1])`\n",
    "\n",
    "Màn hình sẽ in ra 4\n",
    "\n",
    "<b> Hãy khai báo một list có một chuỗi và một số rồi in chuỗi trong list đó ra màn hình </b>"
   ]
  },
  {
   "cell_type": "code",
   "execution_count": 4,
   "id": "bb3f9141",
   "metadata": {},
   "outputs": [
    {
     "name": "stdout",
     "output_type": "stream",
     "text": [
      "L\n"
     ]
    }
   ],
   "source": [
    "doragon = ['Long',0,5,1,0,1,9,9,5] # phần tử được đánh thứ tự từ 0 đến n-1 hoặc từ -n đến -1\n",
    "print(doragon[0][0])"
   ]
  },
  {
   "cell_type": "markdown",
   "id": "ad61e236",
   "metadata": {},
   "source": [
    "### Thêm phần tử vào List\n",
    "\n",
    "Cú pháp:\n",
    "\n",
    "`<tên list>.append()`\n",
    "\n",
    "<b>Ví dụ:</b>\n",
    "\n",
    "`a = []\n",
    "a.append(5)`\n",
    "\n",
    "a sẽ có 1 phần tử là 5\n",
    "\n",
    "<b> Hãy khai báo một list rỗng, rồi thêm 2 phần tử bất kỳ vào list đó, sau đó in list đó ra</b>"
   ]
  },
  {
   "cell_type": "code",
   "execution_count": 7,
   "id": "5823ddca",
   "metadata": {},
   "outputs": [
    {
     "name": "stdout",
     "output_type": "stream",
     "text": [
      "[1, 2, 'Long']\n"
     ]
    }
   ],
   "source": [
    "doragon = [1,2]\n",
    "doragon.append('Long') # lệnh thêm vào luôn thêm phần tử vào sau cùng\n",
    "print(doragon)"
   ]
  },
  {
   "cell_type": "markdown",
   "id": "8c92d3d3",
   "metadata": {},
   "source": [
    "### Thay đổi giá trị của List\n",
    "\n",
    "Cú pháp:\n",
    "\n",
    "`<tên list>[<vị trí của phần tử>] = <giá trị mới>`\n",
    "\n",
    "<b> Hãy khai báo một list bất kỳ, rồi thay đổi 1 phần tử trong nó, sau đó in list đó ra</b>"
   ]
  },
  {
   "cell_type": "code",
   "execution_count": 9,
   "id": "13c61075",
   "metadata": {},
   "outputs": [
    {
     "name": "stdout",
     "output_type": "stream",
     "text": [
      "['Long', 2, 5, 1, 0, 1, 9, 9, 3]\n"
     ]
    }
   ],
   "source": [
    "doragon = ['Long',0,5,1,0,1,9,9,5]\n",
    "doragon[1] = 2\n",
    "doragon[-1] = 3\n",
    "print(doragon)"
   ]
  },
  {
   "cell_type": "markdown",
   "id": "ce14eefe",
   "metadata": {},
   "source": [
    "### Xóa 1 phần tử trong list\n",
    "\n",
    "#### Lệnh remove()\n",
    "\n",
    "Cú pháp:\n",
    "\n",
    "`<tên list>.remove(<giá trị cần xóa>)`\n",
    "\n",
    "<b>Ví dụ:</b>\n",
    "\n",
    "`a = [\"hi\",3,\"hello\",4]\n",
    "a.remove(\"hi\")`\n",
    "\n",
    "Sau khi thực hiện lệnh trên, a chỉ còn [3,\"hello\",4]\n",
    "\n",
    "<b> Hãy khai báo một list bất kỳ, rồi xóa 1 phần tử trong nó bằng lệnh remove(), sau đó in list đó ra</b>"
   ]
  },
  {
   "cell_type": "code",
   "execution_count": 15,
   "id": "f79402ad",
   "metadata": {},
   "outputs": [
    {
     "name": "stdout",
     "output_type": "stream",
     "text": [
      "['Long', 0, 1, 0, 1, 9, 9, 5]\n"
     ]
    }
   ],
   "source": [
    "doragon = ['Long',0,5,1,0,1,9,9,5]\n",
    "doragon.remove(5) # chỉ xóa 1 phần tử đầu tiên\n",
    "if 3 in doragon:\n",
    "    doragon.remove(3) # báo lỗi vì không có phần tử trong list, nên đi kèm lệnh if ... in... để kiểm tra trước khi xóa\n",
    "print(doragon)"
   ]
  },
  {
   "cell_type": "code",
   "execution_count": 16,
   "id": "b0442dbc",
   "metadata": {},
   "outputs": [
    {
     "name": "stdout",
     "output_type": "stream",
     "text": [
      "[5, 5, 124, 51, 241]\n"
     ]
    }
   ],
   "source": [
    "def xoaso(list):\n",
    "    for i in range(1,6,1):\n",
    "        while i in list:\n",
    "            list.remove(i)\n",
    "    return list\n",
    "\n",
    "list = [1,2,5,5,124,51,241]\n",
    "print(xoaso(list))"
   ]
  },
  {
   "cell_type": "markdown",
   "id": "ec66c5cc",
   "metadata": {},
   "source": [
    "#### Lệnh pop()\n",
    "\n",
    "Cú pháp:\n",
    "\n",
    "`<tên list>.pop(<vị trí cần xóa>)`\n",
    "\n",
    "<b>Ví dụ:</b>\n",
    "\n",
    "`a = [\"hi\",3,\"hello\",4]\n",
    "a.pop(3)`\n",
    "\n",
    "Sau khi thực hiện lệnh trên, a chỉ còn [\"hi\",3,\"hello\"]\n",
    "\n",
    "<b> Hãy khai báo một list bất kỳ, rồi xóa 1 phần tử trong nó bằng lệnh pop(), sau đó in list đó ra</b>"
   ]
  },
  {
   "cell_type": "code",
   "execution_count": 17,
   "id": "eeaa0766",
   "metadata": {},
   "outputs": [
    {
     "name": "stdout",
     "output_type": "stream",
     "text": [
      "['Long', 0, 5, 1, 0, 9, 5]\n"
     ]
    }
   ],
   "source": [
    "doragon = ['Long',0,5,1,0,1,9,9,5]\n",
    "doragon.pop(5)\n",
    "doragon.pop(5) # sau khi xóa 1 phần tử, các phần tử trong list sẽ được đánh số thứ tự lại\n",
    "print(doragon)"
   ]
  },
  {
   "cell_type": "markdown",
   "id": "96daac1c",
   "metadata": {},
   "source": [
    "### Sao chép list\n",
    "\n",
    "###### Lưu ý: Nếu ta có list a, ta thực hiện lệnh b = a, list b sẽ bị ảnh hưởng khi list a có sự thay đổi\n",
    "\n",
    "<b> Ví dụ: </b>\n",
    "\n",
    "`a = [5,7,1]\n",
    "b = a\n",
    "a.remove(5)`\n",
    "\n",
    "Khi thực hiện 3 lệnh trên, b sẽ bằng [7,1], dù cho ta thực hiện lệnh `b = a` trước `a.remove(5)`\n",
    "\n",
    "<b> Kiểm chứng sự ảnh hưởng khi gán list </b>"
   ]
  },
  {
   "cell_type": "code",
   "execution_count": 20,
   "id": "1dbdf54b",
   "metadata": {},
   "outputs": [
    {
     "name": "stdout",
     "output_type": "stream",
     "text": [
      "['Yên', 0, 1, 0, 1, 9, 9, 5]\n",
      "['Yên', 0, 1, 0, 1, 9, 9, 5]\n"
     ]
    }
   ],
   "source": [
    "doragon = ['Long',0,5,1,0,1,9,9,5]\n",
    "yan = doragon # lệnh này không tạo thêm list, chỉ là sao chép lại và list mới sẽ thay đổi khi list cũ thay đổi\n",
    "doragon.remove(5) # remove trong list này thì remove trong list kia\n",
    "yan[0] = 'Yên' # tương tự thay đổi list kia sẽ thay đổi list này\n",
    "print(doragon)\n",
    "print(yan)"
   ]
  },
  {
   "cell_type": "markdown",
   "id": "c9c51aad",
   "metadata": {},
   "source": [
    "### Lệnh copy()\n",
    "\n",
    "Cú pháp:\n",
    "\n",
    "`<tên list>.copy()`\n",
    "\n",
    "##### Dùng lệnh copy sẽ khắc phục được vấn đề gán list a cho b\n",
    "\n",
    "<b> Ví dụ: </b>\n",
    "\n",
    "`a = [5,7,1]\n",
    "b = a.copy()\n",
    "a.remove(5)`\n",
    "\n",
    "Khi thực hiện 3 lệnh trên, b vẫn sẽ bằng [5,7,1]\n",
    "\n",
    "Lúc này, b sẽ là một list mới độc lập hoàn toàn với a\n",
    "\n",
    "<b> Khai báo list a, dùng lệnh copy cho list b, rồi thêm phần tử vào list a, sau đó in cả 2 list lên màn hình</b>"
   ]
  },
  {
   "cell_type": "code",
   "execution_count": 27,
   "id": "46759662",
   "metadata": {},
   "outputs": [
    {
     "name": "stdout",
     "output_type": "stream",
     "text": [
      "['Long', 0, 5, 1, 0, 1, 9, 9, 5]\n",
      "['Yên', 2, 5, 1, 0, 1, 9, 9, 3]\n"
     ]
    }
   ],
   "source": [
    "doragon = ['Long',0,5,1,0,1,9,9,5]\n",
    "yan = doragon.copy()\n",
    "yan[1] = 2\n",
    "yan[0] = \"Yên\"\n",
    "yan[-1] = 3\n",
    "print(doragon)\n",
    "print(yan)"
   ]
  },
  {
   "cell_type": "markdown",
   "id": "d8f470e0",
   "metadata": {},
   "source": [
    "### Lệnh len()\n",
    "\n",
    "Tương tự như chuỗi, ta có thể dùng lệnh len cho list để trả về số lượng của list\n",
    "\n",
    "<b> Ví dụ:</b>\n",
    "\n",
    "`a = [3,\"Hello\",5,\"hi\"]\n",
    "b = len(a)`\n",
    "\n",
    "Giá trị của b là 4\n",
    "\n",
    "<b> Khai báo list a, in lên độ dài của list a </b>"
   ]
  },
  {
   "cell_type": "code",
   "execution_count": 28,
   "id": "dfbcf0db",
   "metadata": {},
   "outputs": [
    {
     "name": "stdout",
     "output_type": "stream",
     "text": [
      "9\n"
     ]
    }
   ],
   "source": [
    "doragon = ['Long',0,5,1,0,1,9,9,5]\n",
    "print(len(doragon))"
   ]
  },
  {
   "cell_type": "code",
   "execution_count": 29,
   "id": "f3df1d14",
   "metadata": {},
   "outputs": [
    {
     "name": "stdout",
     "output_type": "stream",
     "text": [
      "['Hi', 'Hi', 'Hi']\n",
      "3\n"
     ]
    }
   ],
   "source": [
    "a = []\n",
    "for i in range(1,10):\n",
    "    if i % 3 != 0:\n",
    "        a.append('Hi')\n",
    "    else:\n",
    "        a.remove('Hi')\n",
    "print(a)\n",
    "print(len(a))"
   ]
  },
  {
   "cell_type": "markdown",
   "id": "8ac29b78",
   "metadata": {},
   "source": [
    "### Duyệt list bằng lệnh for\n",
    "\n",
    "<b> Duyệt list với vị trí </b>"
   ]
  },
  {
   "cell_type": "code",
   "execution_count": 33,
   "id": "1be33622",
   "metadata": {},
   "outputs": [
    {
     "name": "stdout",
     "output_type": "stream",
     "text": [
      "0 Long\n",
      "1 0\n",
      "2 5\n",
      "3 1\n",
      "4 0\n",
      "5 1\n",
      "6 9\n",
      "7 9\n",
      "8 5\n"
     ]
    }
   ],
   "source": [
    "doragon = ['Long',0,5,1,0,1,9,9,5]\n",
    "for i in range(len(doragon)):\n",
    "    print(i,end = ' ')\n",
    "    print(doragon[i])"
   ]
  },
  {
   "cell_type": "markdown",
   "id": "53b6e6eb",
   "metadata": {},
   "source": [
    "<b> Duyệt list với giá trị từng phần tử</b>"
   ]
  },
  {
   "cell_type": "code",
   "execution_count": 34,
   "id": "cdf22aa3",
   "metadata": {},
   "outputs": [
    {
     "name": "stdout",
     "output_type": "stream",
     "text": [
      "Long\n",
      "0\n",
      "5\n",
      "1\n",
      "0\n",
      "1\n",
      "9\n",
      "9\n",
      "5\n"
     ]
    }
   ],
   "source": [
    "doragon = ['Long',0,5,1,0,1,9,9,5]\n",
    "for i in doragon:\n",
    "    print(i)"
   ]
  },
  {
   "cell_type": "code",
   "execution_count": 37,
   "id": "822a7225",
   "metadata": {},
   "outputs": [
    {
     "name": "stdout",
     "output_type": "stream",
     "text": [
      "['Long', 0, 5, 1, 0, 1, 9, 9, 5]\n"
     ]
    }
   ],
   "source": [
    "doragon = ['Long',0,5,1,0,1,9,9,5]\n",
    "k = 0\n",
    "for i in doragon:\n",
    "    k += 1\n",
    "    i = k\n",
    "    \n",
    "print(doragon)"
   ]
  },
  {
   "cell_type": "code",
   "execution_count": null,
   "id": "75aaba6a",
   "metadata": {},
   "outputs": [],
   "source": [
    "# Nếu muốn thay đổi nội dung mà không thay đổi số lượng phần tử, thì nên dùng for với vị trí\n",
    "# Nếu muốn thay đổi số lượng phần tử thì nên dùng while"
   ]
  },
  {
   "cell_type": "markdown",
   "id": "3fcda853",
   "metadata": {},
   "source": [
    "### Bài tập"
   ]
  },
  {
   "cell_type": "markdown",
   "id": "72d9a5fa",
   "metadata": {},
   "source": [
    "Nhập vào một dãy số nguyên dương (ngưng nhập nếu người dùng nhập -1)\n",
    "\n",
    "Sau khi nhập hãy:\n",
    "- In ra số lớn nhất trong dãy\n",
    "- In ra số bé nhất trong dãy\n",
    "- In ra dãy số nguyên tố tìm được trong dãy vừa nhập"
   ]
  },
  {
   "cell_type": "code",
   "execution_count": 6,
   "id": "38805cc0",
   "metadata": {},
   "outputs": [
    {
     "name": "stdout",
     "output_type": "stream",
     "text": [
      "Nhập số thứ 1:5\n",
      "Nhập số thứ 2:6\n",
      "Nhập số thứ 3:7\n",
      "Nhập số thứ 4:9\n",
      "Nhập số thứ 5:3\n",
      "Nhập số thứ 6:1\n",
      "Nhập số thứ 7:-1\n",
      "9\n",
      "1\n",
      "[5, 7, 3]\n"
     ]
    }
   ],
   "source": [
    "dem = 1\n",
    "a = int(input('Nhập số thứ ' + str(dem) + \":\"))\n",
    "list = []\n",
    "while a != -1:\n",
    "    list.append(a)\n",
    "    dem += 1\n",
    "    a = int(input('Nhập số thứ ' + str(dem) + \":\"))\n",
    "    \n",
    "ln = list[0]\n",
    "for i in list:\n",
    "    if i > ln:\n",
    "        ln = i\n",
    "nn = list[0]\n",
    "for i in list:\n",
    "    if i < nn:\n",
    "        nn = i\n",
    "\n",
    "def snt(a):\n",
    "    if a < 2: return False\n",
    "    for i in range(2,a):\n",
    "        if a%i == 0:\n",
    "            return False\n",
    "    return True\n",
    "listnt = []\n",
    "for i in list:\n",
    "    if snt(i) == True:\n",
    "        listnt.append(i)\n",
    "\n",
    "print(ln)\n",
    "print(nn)\n",
    "print(listnt)"
   ]
  },
  {
   "cell_type": "markdown",
   "id": "f493bb3e",
   "metadata": {},
   "source": [
    "Viết hàm với dữ liệu đầu vào bao gồm 3 tham số: list, a, b. Hàm này có công dụng tìm số lớn nhất trong đoạn từ vị trí a đến vị trí b trong list."
   ]
  },
  {
   "cell_type": "code",
   "execution_count": 16,
   "id": "a730c2f8",
   "metadata": {},
   "outputs": [
    {
     "name": "stdout",
     "output_type": "stream",
     "text": [
      "Nhập số a :2\n",
      "Nhập số b :5\n",
      "Nhập số thứ 1:2\n",
      "Nhập số thứ 2:5\n",
      "Nhập số thứ 3:6\n",
      "Nhập số thứ 4:7\n",
      "Nhập số thứ 5:46\n",
      "Nhập số thứ 6:4\n",
      "Nhập số thứ 7:-1\n",
      "[2, 5, 6, 7, 46, 4]\n",
      "46\n"
     ]
    }
   ],
   "source": [
    "a = int(input('Nhập số a :'))\n",
    "b = int(input('Nhập số b :'))\n",
    "dem = 1\n",
    "c = int(input('Nhập số thứ ' + str(dem) + \": \"))\n",
    "list = []\n",
    "while c != -1:\n",
    "    list.append(c)\n",
    "    dem += 1\n",
    "    c = int(input('Nhập số thứ ' + str(dem) + \": \"))\n",
    "def max(list,a,b):\n",
    "    ln = 0\n",
    "    for i in range(a,b,1):\n",
    "        if list[i] > ln: \n",
    "            ln = list[i]\n",
    "    return ln\n",
    "print(list)\n",
    "print(max(list,a,b))"
   ]
  },
  {
   "cell_type": "markdown",
   "id": "87acccb8",
   "metadata": {},
   "source": [
    "Viết hàm có tham số đầu vào là list, giá trị trả về là số lượng số nguyên tố bé hơn 100 trong list"
   ]
  },
  {
   "cell_type": "code",
   "execution_count": 19,
   "id": "c605991d",
   "metadata": {},
   "outputs": [
    {
     "name": "stdout",
     "output_type": "stream",
     "text": [
      "Nhập số thứ 1:5\n",
      "Nhập số thứ 2:2\n",
      "Nhập số thứ 3:5\n",
      "Nhập số thứ 4:6\n",
      "Nhập số thứ 5:8\n",
      "Nhập số thứ 6:137\n",
      "Nhập số thứ 7:-1\n",
      "[5, 2, 5]\n",
      "3\n"
     ]
    }
   ],
   "source": [
    "dem = 1\n",
    "a = int(input('Nhập số thứ ' + str(dem) + \":\"))\n",
    "list = []\n",
    "while a != -1:\n",
    "    list.append(a)\n",
    "    dem += 1\n",
    "    a = int(input('Nhập số thứ ' + str(dem) + \":\"))\n",
    "    \n",
    "def snt100(a):\n",
    "    if a < 2 or a > 100: return False\n",
    "    for i in range(2,a):\n",
    "        if a%i == 0:\n",
    "            return False\n",
    "    return True\n",
    "listnt = []\n",
    "for i in list:\n",
    "    if snt100(i) == True:\n",
    "        listnt.append(i)\n",
    "print(listnt)\n",
    "print(len(listnt))\n",
    "            "
   ]
  },
  {
   "cell_type": "code",
   "execution_count": 4,
   "id": "e9dc4913",
   "metadata": {},
   "outputs": [
    {
     "name": "stdout",
     "output_type": "stream",
     "text": [
      "Nhập số thứ 1:5\n",
      "Nhập số thứ 2:7\n",
      "Nhập số thứ 3:3\n",
      "Nhập số thứ 4:9\n",
      "Nhập số thứ 5:101\n",
      "Nhập số thứ 6:-1\n",
      "3\n"
     ]
    }
   ],
   "source": [
    "dem = 1\n",
    "a = int(input('Nhập số thứ ' + str(dem) + \":\"))\n",
    "list = []\n",
    "while a != -1:\n",
    "    list.append(a)\n",
    "    dem += 1\n",
    "    a = int(input('Nhập số thứ ' + str(dem) + \":\"))\n",
    "    \n",
    "def snt100(a):\n",
    "    if a < 2 or a > 100: return False\n",
    "    for i in range(2,a):\n",
    "        if a%i == 0:\n",
    "            return False\n",
    "    return True\n",
    "\n",
    "def demsnt(count):\n",
    "    count = 0\n",
    "    for i in list:\n",
    "        if snt100(i):\n",
    "            count += 1\n",
    "    return count\n",
    "\n",
    "print(demsnt(list))"
   ]
  },
  {
   "cell_type": "markdown",
   "id": "13840ec8",
   "metadata": {},
   "source": [
    "Viết hàm tìm giá trị dương đầu tiên của list, nếu không có giá trị dương trả về -1"
   ]
  },
  {
   "cell_type": "code",
   "execution_count": 6,
   "id": "d7ffb2b7",
   "metadata": {},
   "outputs": [
    {
     "name": "stdout",
     "output_type": "stream",
     "text": [
      "Nhập số thứ 1:-6\n",
      "Nhập số thứ 2:08\n",
      "Nhập số thứ 3:-5\n",
      "Nhập số thứ 4:4\n",
      "Nhập số thứ 5:-1\n",
      "8\n"
     ]
    }
   ],
   "source": [
    "def tgtd(list):\n",
    "    for i in list:\n",
    "        if i > 0:\n",
    "            return i\n",
    "    return -1\n",
    "dem = 1\n",
    "a = int(input('Nhập số thứ ' + str(dem) + \":\"))\n",
    "list = []\n",
    "while a != -1:\n",
    "    list.append(a)\n",
    "    dem += 1\n",
    "    a = int(input('Nhập số thứ ' + str(dem) + \":\"))\n",
    "print(tgtd(list))"
   ]
  },
  {
   "cell_type": "markdown",
   "id": "0f71c71e",
   "metadata": {},
   "source": [
    "Viết hàm có 2 giá trị đầu vào là list và x. Tìm giá trị trong list xa x nhất"
   ]
  },
  {
   "cell_type": "code",
   "execution_count": 9,
   "id": "03ef7d4c",
   "metadata": {},
   "outputs": [
    {
     "name": "stdout",
     "output_type": "stream",
     "text": [
      "Nhập số thứ 1:6\n",
      "Nhập số thứ 2:8\n",
      "Nhập số thứ 3:9\n",
      "Nhập số thứ 4:4\n",
      "Nhập số thứ 5:10\n",
      "Nhập số thứ 6:3\n",
      "Nhập số thứ 7:-1\n",
      "Nhập số x: 5\n",
      "10\n"
     ]
    }
   ],
   "source": [
    "dem = 1\n",
    "a = int(input('Nhập số thứ ' + str(dem) + \":\"))\n",
    "list = []\n",
    "while a != -1:\n",
    "    list.append(a)\n",
    "    dem += 1\n",
    "    a = int(input('Nhập số thứ ' + str(dem) + \":\"))\n",
    "x = int(input('Nhập số x: '))\n",
    "\n",
    "def tgtxn(list):\n",
    "    hf = 0\n",
    "    gt = 0\n",
    "    for i in list:\n",
    "        if abs(x-i) > hf:\n",
    "            hf = abs(i-x)\n",
    "            gt = i\n",
    "    return gt\n",
    "print(tgtxn(list))"
   ]
  },
  {
   "cell_type": "markdown",
   "id": "3b634d0f",
   "metadata": {},
   "source": [
    "Một người dùng số tiền là U đô-la và V Euro để mua một loại nguyên liệu sản xuất. \n",
    "\n",
    "Có N công ty nước ngoài bán nguyên liệu trên được đánh số từ 1 đến N. Công ty thứ i có giá bán Ai đô la/1 kg nguyên liệu và Bi Euro/1 kg nguyên liệu. \n",
    "\n",
    "Tuy nhiên, tại mỗi công ty chỉ bán nguyên liệu cho một khách hàng hoặc theo đô-la, hoặc theo Euro. \n",
    "\n",
    "Hãy giúp người đó tìm cách chọn ra 2 công ty để mua hàng sao cho số lượng nguyên liệu sản xuất có thể mua được là nhiều nhất.\n",
    "\n",
    "Nhập vào: Từ bàn phím 3 số theo thứ tự : N U V (1 ≤ N ≤ 20; 1 ≤ U, V ≤ 1000) và N cặp số nguyên Ai, Bi (1 < Ai, Bi < 1000) (nhập lần lượng A1, B1 rồi A2, B2)\n",
    "\n",
    "In ra : Số lượng nguyên liệu S(kg) người đó mua được với 2 chữ số thập phân."
   ]
  },
  {
   "cell_type": "code",
   "execution_count": 14,
   "id": "677abefe",
   "metadata": {},
   "outputs": [
    {
     "name": "stdout",
     "output_type": "stream",
     "text": [
      "Nhập số lượng công ty N: 3\n",
      "Nhập đơn giá USD của công ty 1: 2\n",
      "Nhập đơn giá EUR của công ty 1: 1.5\n",
      "Nhập đơn giá USD của công ty 2: 2.1\n",
      "Nhập đơn giá EUR của công ty 2: 1.4\n",
      "Nhập đơn giá USD của công ty 3: 2.5\n",
      "Nhập đơn giá EUR của công ty 3: 1.1\n",
      "Nhập đơn số tiền USD đang có: 5\n",
      "Nhập đơn số tiền EUR đang có: 70\n",
      "65.64\n"
     ]
    }
   ],
   "source": [
    "EU = [0]\n",
    "US = [0]\n",
    "N = int(input('Nhập số lượng công ty N: '))\n",
    "for i in range(1,N+1):\n",
    "    us = float(input('Nhập đơn giá USD của công ty '+ str(i) + \": \"))\n",
    "    US.append(us)\n",
    "    eu = float(input('Nhập đơn giá EUR của công ty '+ str(i) + \": \"))\n",
    "    EU.append(eu)\n",
    "U = float(input('Nhập đơn số tiền USD đang có: '))\n",
    "V = float(input('Nhập đơn số tiền EUR đang có: '))\n",
    "S = 0\n",
    "for i in range(1,N+1):\n",
    "    Su = 0\n",
    "    Se = 0\n",
    "    if Su < U/US[i]:\n",
    "        Su = U/US[i]\n",
    "    if Se < V/EU[i]:\n",
    "        Se = V/EU[i]\n",
    "S = round(Se + Su,2)\n",
    "print('Số lượng nguyên liệu S(kg) người đó mua được:',S)"
   ]
  },
  {
   "cell_type": "code",
   "execution_count": 16,
   "id": "90401e4e",
   "metadata": {},
   "outputs": [
    {
     "name": "stdout",
     "output_type": "stream",
     "text": [
      "Nhập số lượng công ty N: 3\n",
      "Nhập đơn giá USD của công ty 1: 5\n",
      "Nhập đơn giá EUR của công ty 1: 3.5\n",
      "Nhập đơn giá USD của công ty 2: 4\n",
      "Nhập đơn giá EUR của công ty 2: 4.6\n",
      "Nhập đơn giá USD của công ty 3: 4.5\n",
      "Nhập đơn giá EUR của công ty 3: 3.4\n",
      "Nhập đơn số tiền USD đang có: 50\n",
      "Nhập đơn số tiền EUR đang có: 60\n",
      "30.15\n"
     ]
    }
   ],
   "source": [
    "def S(U,V,US,EU):\n",
    "    usd = US[1]\n",
    "    eur = EU[1]\n",
    "    for i in US:\n",
    "        if i < usd:\n",
    "            usd = i\n",
    "    for i in EU:\n",
    "        if i < eur:\n",
    "            eur = i\n",
    "    return round(U/usd + V/eur,2)\n",
    "\n",
    "\n",
    "EU = []\n",
    "US = []\n",
    "N = int(input('Nhập số lượng công ty N: '))\n",
    "for i in range(N):\n",
    "    us = float(input('Nhập đơn giá USD của công ty '+ str(i+1) + \": \"))\n",
    "    US.append(us)\n",
    "    eu = float(input('Nhập đơn giá EUR của công ty '+ str(i+1) + \": \"))\n",
    "    EU.append(eu)\n",
    "U = float(input('Nhập đơn số tiền USD đang có: '))\n",
    "V = float(input('Nhập đơn số tiền EUR đang có: '))\n",
    "\n",
    "print('Số lượng nguyên liệu S(kg) người đó mua được:',S(U,V,US,EU))"
   ]
  }
 ],
 "metadata": {
  "kernelspec": {
   "display_name": "Python 3 (ipykernel)",
   "language": "python",
   "name": "python3"
  },
  "language_info": {
   "codemirror_mode": {
    "name": "ipython",
    "version": 3
   },
   "file_extension": ".py",
   "mimetype": "text/x-python",
   "name": "python",
   "nbconvert_exporter": "python",
   "pygments_lexer": "ipython3",
   "version": "3.10.4"
  }
 },
 "nbformat": 4,
 "nbformat_minor": 5
}
