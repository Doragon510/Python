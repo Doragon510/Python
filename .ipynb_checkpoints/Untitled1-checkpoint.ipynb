{
 "cells": [
  {
   "cell_type": "code",
   "execution_count": 4,
   "id": "f59f2e19",
   "metadata": {},
   "outputs": [],
   "source": [
    "from tkinter import *\n",
    "sc = Tk()\n",
    "sc.title('Yugioh One for All')\n",
    "\n",
    "main = Frame(sc)\n",
    "P1 = Frame(sc)\n",
    "P2 = Frame(sc)\n",
    "Tool = Frame(sc)\n",
    "\n",
    "P1_LP = StringVar()\n",
    "P2_LP = StringVar()\n",
    "P1_LP.set(8000)\n",
    "P2_LP.set(8000)\n",
    "\n",
    "def P1_LPC():\n",
    "    main.grid_forget()\n",
    "    P1.grid()\n",
    "\n",
    "def P2_LPC():\n",
    "    main.grid_forget()\n",
    "    P2.grid()\n",
    "\n",
    "def close_LPC():\n",
    "    P1.grid_forget()\n",
    "    P2.grid_forget()\n",
    "    main.grid()\n",
    "    \n",
    "bt_P1 = Button(main, textvariable = P1_LP, width = 7, font = ('Arial',17), command = P1_LPC)\n",
    "bt_P2 = Button(main, textvariable = P2_LP, width = 7, font = ('Arial',17), command = P2_LPC)\n",
    "bt_P1.grid(column = 1, row = 3, columnspan = 2)\n",
    "bt_P1.grid(column = 3, row = 3, columnspan = 2)\n",
    "main.grid()\n",
    "\n",
    "# màn hình P1 LPC:\n",
    "bt_back = Button(P1, text = 'Back', width = 7, font = ('Arial',17), command = click_Back)\n",
    "bt_CLR = Button(P1, text = 'CLR', width = 7, font = ('Arial',17), command = click_CLR)\n",
    "bt_1 = Button(P1, text = '1', width = 7, font = ('Arial',17), command = click_1)\n",
    "bt_2 = Button(P1, text = '2', width = 7, font = ('Arial',17), command = click_2)\n",
    "bt_3 = Button(P1, text = '3', width = 7, font = ('Arial',17), command = click_3)\n",
    "bt_4 = Button(P1, text = '4', width = 7, font = ('Arial',17), command = click_4)\n",
    "bt_5 = Button(P1, text = '5', width = 7, font = ('Arial',17), command = click_5)\n",
    "bt_6 = Button(P1, text = '6', width = 7, font = ('Arial',17), command = click_6)\n",
    "bt_7 = Button(P1, text = '7', width = 7, font = ('Arial',17), command = click_7)\n",
    "bt_8 = Button(P1, text = '8', width = 7, font = ('Arial',17), command = click_8)\n",
    "bt_9 = Button(P1, text = '9', width = 7, font = ('Arial',17), command = click_9)\n",
    "bt_0 = Button(P1, text = '0', width = 7, font = ('Arial',17), command = click_0)\n",
    "bt_000 = Button(P1, text = '000', width = 7, font = ('Arial',17), command = click_000)\n",
    "bt_bang = Button(P1, text = '=', width = 7, font = ('Arial',17), command = click_bang)\n",
    "bt_cong = Button(P1, text = '+', width = 7, font = ('Arial',17), command = click_cong)\n",
    "bt_tru = Button(P1, text = '-', width = 7, font = ('Arial',17), command = click_tru)\n",
    "bt_chia2 = Button(P1, text = '/2', width = 7, font = ('Arial',17), command = click_chia2)\n",
    "\n",
    "sc.mainloop()"
   ]
  }
 ],
 "metadata": {
  "kernelspec": {
   "display_name": "Python 3 (ipykernel)",
   "language": "python",
   "name": "python3"
  },
  "language_info": {
   "codemirror_mode": {
    "name": "ipython",
    "version": 3
   },
   "file_extension": ".py",
   "mimetype": "text/x-python",
   "name": "python",
   "nbconvert_exporter": "python",
   "pygments_lexer": "ipython3",
   "version": "3.10.4"
  }
 },
 "nbformat": 4,
 "nbformat_minor": 5
}
