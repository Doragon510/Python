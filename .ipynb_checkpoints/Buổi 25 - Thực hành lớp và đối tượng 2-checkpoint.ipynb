{
 "cells": [
  {
   "cell_type": "markdown",
   "id": "b08a97f2",
   "metadata": {},
   "source": [
    "# Thực hành lớp và đối tượng 2"
   ]
  },
  {
   "cell_type": "markdown",
   "id": "cb5eadba",
   "metadata": {},
   "source": [
    "### Bài 1"
   ]
  },
  {
   "cell_type": "markdown",
   "id": "912cf868",
   "metadata": {},
   "source": [
    "Theo các nghiên cứu, đoạn đường đẹp nhất là đoạn đường mà ở đó độ cao trung bình của các tòa nhà là K.\n",
    "\n",
    "Có N tòa nhà, tòa nhà thứ i tính từ đầu đường có độ cao là Ai.\n",
    "\n",
    "Bạn hãy tìm một đoạn dài nhất các tòa nhà sao cho chúng có độ cao trung bình là K.\n",
    "\n",
    "<b>Dữ liệu đầu vào:</b>\n",
    "\n",
    "Biến K chứa K\n",
    "\n",
    "Biến L là list chứa các Ai\n",
    "\n",
    "<b>In ra:</b> vị trí và độ dài của đoạn list thỏa mãn yêu cầu (trong trường hợp có nhiều đoạn list, in ra đoạn có độ dài lớn nhất)\n",
    "\n",
    "<b>Ví dụ:</b>\n",
    "\n",
    "K = 5\n",
    "\n",
    "L = [2,4,5,6]\n",
    "\n",
    "<b>In ra:</b> Vị trí đoạn list thỏa màn yêu cầu là 1 và có độ dài là 3 (tức là đoạn [4,5,6])"
   ]
  },
  {
   "cell_type": "markdown",
   "id": "3e954d21",
   "metadata": {},
   "source": [
    "<b> Khai báo: </b>"
   ]
  },
  {
   "cell_type": "code",
   "execution_count": null,
   "id": "4603b6fd",
   "metadata": {},
   "outputs": [],
   "source": [
    "K = 5\n",
    "L = [2,4,5,6]"
   ]
  },
  {
   "cell_type": "markdown",
   "id": "7abdba36",
   "metadata": {},
   "source": [
    "<b> Code: </b>"
   ]
  },
  {
   "cell_type": "code",
   "execution_count": 5,
   "id": "d12b38b9",
   "metadata": {},
   "outputs": [
    {
     "data": {
      "text/plain": [
       "(1, 3)"
      ]
     },
     "execution_count": 5,
     "metadata": {},
     "output_type": "execute_result"
    }
   ],
   "source": [
    "def tinhtb(L):\n",
    "    S = 0\n",
    "    for i in L:\n",
    "        S += i\n",
    "    return S/len(L)\n",
    "def main(L,K):\n",
    "    for dodai in range(len(L),0,-1): # tìm từ dài nhất đến ngắn nhất\n",
    "        for i in range(len(L)-dodai+1): \n",
    "            L_cut = L[i:i+dodai]\n",
    "            if tinhtb(L_cut) == K:\n",
    "                return i,dodai\n",
    "    return False\n",
    "K = 5\n",
    "L = [2,4,5,6]\n",
    "main(L,K)"
   ]
  },
  {
   "cell_type": "markdown",
   "id": "724bdb5b",
   "metadata": {},
   "source": [
    "### Bài 2"
   ]
  },
  {
   "cell_type": "markdown",
   "id": "82340c62",
   "metadata": {},
   "source": [
    "Trong một bản nhạc thường có những đoạn nhạc (mỗi đoạn nhạc là một dãy có nhiều hơn một nốt nhạc đi liền nhau) được sử dụng lại nhờ thủ pháp biến tấu đồng điệu.\n",
    "\n",
    "Thủ pháp này đơn giản là lặp lại một đoạn nhạc nào đó trước đó bằng cách giữ nguyên, hoặc tăng, giảm tất cả các nốt cùng một quãng cao nào đó.\n",
    "\n",
    "Chẳng hạn, đoạn với dãy cao độ: 2, 1, 5, 4, 7, 6 là biến tấu đồng điệu của đoạn: 5, 4, 8, 7, 10, 9.\n",
    "\n",
    "Vì các nốt của đoạn đều bị giảm đi một quãng 3. Độ dài mỗi đoạn nói trên đều là 6 (gồm 6 nốt).\n",
    "\n",
    "Yêu cầu: cho trước bản nhạc gồm N nốt nhạc, hãy tìm độ dài lớn nhất L có thể có của các đoạn biến tấu đồng điệu. Nếu không có đoạn biến tấu đồng điệu nào thì L = 0.\n",
    "\n",
    "<b>Dữ liệu đầu vào:</b>\n",
    "\n",
    "Biến L chứa các cao độ của nốt nhạc (độ dài của L lớn hơn 3 và bé hơn 5000)\n",
    "\n",
    "<b>In ra:</b> Số nguyên L\n",
    "\n",
    "<b>Ví dụ:</b>\n",
    "\n",
    "L = [67,6,7,5,4,1,2,3,4,5,23,4,5,3,5,6,12,56,57,58,59,13,14,13,14]\n",
    "\n",
    "<b>In ra:</b> 4"
   ]
  },
  {
   "cell_type": "markdown",
   "id": "9a8a52f5",
   "metadata": {},
   "source": [
    "<b> Khai báo: </b>"
   ]
  },
  {
   "cell_type": "code",
   "execution_count": null,
   "id": "c821d2c5",
   "metadata": {},
   "outputs": [],
   "source": [
    "L = [67,6,7,5,4,1,2,3,4,5,23,4,5,3,5,6,12,56,57,58,59,13,14,13,14]"
   ]
  },
  {
   "cell_type": "markdown",
   "id": "a0fb033a",
   "metadata": {},
   "source": [
    "<b> Code: </b>"
   ]
  },
  {
   "cell_type": "code",
   "execution_count": 15,
   "id": "51b08037",
   "metadata": {},
   "outputs": [
    {
     "data": {
      "text/plain": [
       "(4, 5, 17)"
      ]
     },
     "execution_count": 15,
     "metadata": {},
     "output_type": "execute_result"
    }
   ],
   "source": [
    "def bientau(L_cut,L_bientau):\n",
    "    for i in range(len(L_cut)-1):\n",
    "        if L_cut[i] - L_bientau[i] != L_cut[i+1] - L_bientau[i+1]:\n",
    "            return False\n",
    "    return True\n",
    "def doannhac(L):\n",
    "    for dodai in range(len(L)//2,3,-1): # độ dài khả dĩ cao nhất có thể là bằng 1 nửa của đoạn nhạc, thấp nhất là lớn hơn 3\n",
    "        for i in range(len(L)-dodai*2+1): # việc tìm vị trí bắt đầu từ trái sang phải, vị trí thỏa sao cho cắt được ít nhất 2 đoạn nhạc nhỏ\n",
    "            L_cut = L[i:i+dodai]\n",
    "            L_conlai = L[i+dodai:]\n",
    "            for j in range(len(L_conlai)-dodai+1):\n",
    "                L_bientau = L_conlai[j:j+dodai]\n",
    "                if bientau(L_cut,L_bientau):\n",
    "                    return dodai, i, j+i+dodai # kết quả yêu cầu là độ dài, return thêm 2 biến kia để dễ kiểm tra đáp án\n",
    "    return 0\n",
    "L = [67,6,7,5,4,1,2,3,4,5,23,4,5,3,5,6,12,56,57,58,59,13,14,13,14]\n",
    "doannhac(L)"
   ]
  },
  {
   "cell_type": "code",
   "execution_count": 7,
   "id": "0c6e823b",
   "metadata": {},
   "outputs": [
    {
     "data": {
      "text/plain": [
       "True"
      ]
     },
     "execution_count": 7,
     "metadata": {},
     "output_type": "execute_result"
    }
   ],
   "source": [
    "def bientau(L_cut,L_bientau):\n",
    "    for i in range(len(L_cut)-1):\n",
    "        if L_cut[i] - L_bientau[i] != L_cut[i+1] - L_bientau[i+1]:\n",
    "            return False\n",
    "    return True\n",
    "\n",
    "L_cut = [1,2,3,4]\n",
    "L_bientau = [5,6,7,8]\n",
    "bientau(L_cut,L_bientau)"
   ]
  }
 ],
 "metadata": {
  "kernelspec": {
   "display_name": "Python 3 (ipykernel)",
   "language": "python",
   "name": "python3"
  },
  "language_info": {
   "codemirror_mode": {
    "name": "ipython",
    "version": 3
   },
   "file_extension": ".py",
   "mimetype": "text/x-python",
   "name": "python",
   "nbconvert_exporter": "python",
   "pygments_lexer": "ipython3",
   "version": "3.10.4"
  }
 },
 "nbformat": 4,
 "nbformat_minor": 5
}
