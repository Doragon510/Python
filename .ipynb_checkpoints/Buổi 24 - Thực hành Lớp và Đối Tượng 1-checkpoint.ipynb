{
 "cells": [
  {
   "cell_type": "markdown",
   "id": "ec00548e",
   "metadata": {},
   "source": [
    "# Thực hành Lớp và Đối Tượng 1"
   ]
  },
  {
   "cell_type": "markdown",
   "id": "e9a5b1b0",
   "metadata": {},
   "source": [
    "### Bài 1"
   ]
  },
  {
   "cell_type": "markdown",
   "id": "b89649bc",
   "metadata": {},
   "source": [
    "Viết một lớp point để lưu trữ một điểm trong hệ trục tọa độ Oxy\n",
    "\n",
    "Class này có:\n",
    "\n",
    "<b> Các biến: </b>\n",
    "- <b>x</b>: mang tọa độ x của diểm\n",
    "- <b>y</b>: mang tọa độ y của diểm\n",
    "\n",
    "<b> Các hàm: </b>\n",
    "- <b>khoangcachgoc:</b> hàm này trả về khoảng cách từ điểm đến điểm gốc(0,0)\n",
    "- <b>khoangcach(tham số đầu vào là 1 đối tượng có lớp point):</b> hàm này trả về khoảng cách từ điểm đến điểm được đưa vào\n",
    "- <b>diemdoixung:</b> hàm này trả về đối tượng có lớp point là điểm đối xứng của điểm qua điểm gốc(0,0)\n",
    "- <b>diemtrungbinh(tham số đầu vào là 1 đối tượng có lớp point):</b> hàm này trả về đối tượng có lớp point là điểm nằm chính giữa điểm và điểm được đưa vào\n",
    "- <b>thanghang(tham số đầu vào là 2 đối tượng có lớp point):</b> hàm này trả về kết quả kiểm tra 3 điểm có thẳng hằng hay không (True/False)\n",
    "- <b>vuonggoc((tham số đầu vào là 3 đối tượng có lớp point):</b> hàm trả trả về kết quả kiểm tra 4 điểm có tạo thành 2 đường thẳng vuông góc được hay không (True/False)"
   ]
  },
  {
   "cell_type": "code",
   "execution_count": 16,
   "id": "ca30ea7d",
   "metadata": {},
   "outputs": [
    {
     "ename": "NameError",
     "evalue": "name 'x' is not defined",
     "output_type": "error",
     "traceback": [
      "\u001b[1;31m---------------------------------------------------------------------------\u001b[0m",
      "\u001b[1;31mNameError\u001b[0m                                 Traceback (most recent call last)",
      "Input \u001b[1;32mIn [16]\u001b[0m, in \u001b[0;36m<cell line: 30>\u001b[1;34m()\u001b[0m\n\u001b[0;32m     28\u001b[0m P1 \u001b[38;5;241m=\u001b[39m P0\u001b[38;5;241m.\u001b[39mdiemdoixung()\n\u001b[0;32m     29\u001b[0m P2 \u001b[38;5;241m=\u001b[39m P0\u001b[38;5;241m.\u001b[39mdiemtrungbinh(PA)\n\u001b[1;32m---> 30\u001b[0m \u001b[38;5;28mprint\u001b[39m(P0\u001b[38;5;241m.\u001b[39mkhoangcachgoc(\u001b[43mx\u001b[49m,y))\n\u001b[0;32m     31\u001b[0m \u001b[38;5;28mprint\u001b[39m(P0\u001b[38;5;241m.\u001b[39mthanghang(PA,PB))\n\u001b[0;32m     32\u001b[0m P1\u001b[38;5;241m.\u001b[39mintoado()\n",
      "\u001b[1;31mNameError\u001b[0m: name 'x' is not defined"
     ]
    }
   ],
   "source": [
    "class point:\n",
    "    def __init__(self,x,y):\n",
    "        self.x = x\n",
    "        self.y = y\n",
    "    def intoado(self):\n",
    "        print(self.x,\",\",self.y,sep = \"\")\n",
    "    def khoangcachgoc(self,x,y):\n",
    "        khoangcach = ((self.x)**2 + (self.y)**2)**0.5\n",
    "        return khoangcach\n",
    "    def diemdoixung(self):\n",
    "        doixung_x = -self.x\n",
    "        doixung_y = -self.y\n",
    "        return point(doixung_x,doixung_y)\n",
    "    def diemtrungbinh(self,pointA):\n",
    "        dtb_x = (self.x + pointA.x)/2\n",
    "        dtb_y = (self.y + pointA.y)/2\n",
    "        return point(dtb_x,dtb_y)\n",
    "    def thanghang(self,pointA,pointB):\n",
    "        kc1 = ((self.x-pointA.x)**2 + (self.y-pointA.y)**2)**0.5\n",
    "        kc2 = ((self.x-pointB.x)**2 + (self.y-pointB.y)**2)**0.5\n",
    "        kc3 = ((pointB.x-pointA.x)**2 + (pointB.y-pointA.y)**2)**0.5\n",
    "        if kc1 == kc2 + kc3 or kc2 == kc1 + kc3 or kc3 == kc1 + kc2:\n",
    "            return True\n",
    "        return False\n",
    "P0 = point(5,0)\n",
    "PA = point(10,0)\n",
    "PB = point(7,0)\n",
    "P1 = P0.diemdoixung()\n",
    "P2 = P0.diemtrungbinh(PA)\n",
    "\n",
    "print(P0.thanghang(PA,PB))\n",
    "P1.intoado()\n",
    "P2.intoado()\n"
   ]
  },
  {
   "cell_type": "markdown",
   "id": "59c44a5f",
   "metadata": {},
   "source": [
    "### Bài 2"
   ]
  },
  {
   "cell_type": "markdown",
   "id": "b6f8706c",
   "metadata": {},
   "source": [
    "Viết một lớp line để lưu trữ một đường thẳng trong hệ trục tọa độ Oxy (có dạng ax + by + c = 0)\n",
    "\n",
    "Class này có:\n",
    "\n",
    "<b> Các biến: </b>\n",
    "- <b>a</b>: hệ số a của phương trình\n",
    "- <b>b</b>: hệ số b của phương trình\n",
    "- <b>c</b>: hệ số c của phương trình\n",
    "\n",
    "<b> Các hàm: </b>\n",
    "- <b>khoangcachgoc:</b> hàm này trả về khoảng cách từ đường thẳng đến điểm gốc(0,0)\n",
    "- <b>khoangcach(tham số đầu vào là 1 đối tượng có lớp point):</b> hàm này trả về khoảng cách từ đường thẳng đến điểm được đưa vào\n",
    "- <b>tinhchat(tham số đầu vào là 1 đối tượng có lớp line):</b> hàm này kiểm tra xem 2 đường thẳng cắt nhau hay song song hay trùng nhau (trả về 0: cắt nhau, 1: song song, 2: trùng nhau)\n",
    "- <b>thuocduongthang(tham số đầu vào là 1 đối tượng có lớp point):</b> hàm này trả về kết quả điểm có thuộc đường thẳng hay không (True/False)\n",
    "- <b>duongthangtrungbinh(tham số đầu vào là 1 đối tượng có lớp point):</b> hàm này trả về đối tượng có lớp line là đường thẳng nằm chính giữa đường thẳng và điểm được đưa vào\n",
    "- <b>songsong(tham số đầu vào là 2 đối tượng có lớp point):</b> hàm này trả về kết quả kiểm tra 2 điểm có có tạo đường thẳng song song với đường thẳng hay không (True/False)\n",
    "- <b>vuonggoc((tham số đầu vào là 2 đối tượng có lớp point):</b> hàm này trả về kết quả kiểm tra 2 điểm có có tạo đường thẳng vuông góc với đường thẳng hay không (True/False)"
   ]
  },
  {
   "cell_type": "code",
   "execution_count": null,
   "id": "ce32e9aa",
   "metadata": {},
   "outputs": [],
   "source": [
    "class Line:\n",
    "    def __init__(self,a,b,c):\n",
    "        self.a = a\n",
    "        self.b = b\n",
    "        self.c = c\n",
    "    def inLine(self):\n",
    "        print(str(self.a)+'x + '+str(self.b)+'y + '+str(self.c)+' = 0')\n",
    "    def khoangcachgoc(self):\n",
    "        return abs"
   ]
  }
 ],
 "metadata": {
  "kernelspec": {
   "display_name": "Python 3 (ipykernel)",
   "language": "python",
   "name": "python3"
  },
  "language_info": {
   "codemirror_mode": {
    "name": "ipython",
    "version": 3
   },
   "file_extension": ".py",
   "mimetype": "text/x-python",
   "name": "python",
   "nbconvert_exporter": "python",
   "pygments_lexer": "ipython3",
   "version": "3.10.4"
  }
 },
 "nbformat": 4,
 "nbformat_minor": 5
}
