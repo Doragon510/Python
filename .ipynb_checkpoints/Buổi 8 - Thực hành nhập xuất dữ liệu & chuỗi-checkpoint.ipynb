{
 "cells": [
  {
   "cell_type": "markdown",
   "id": "5bc93fb0",
   "metadata": {},
   "source": [
    "# Thực hành nhập xuất dữ liệu & chuỗi\n",
    "\n",
    "### Bài tập tra cứu lệnh\n",
    "\n",
    "Nhập vào một chuỗi, kiểm tra xem chuỗi đó có ký tự nào là chữ in hoa hay không, nếu có thì in True, không có thì in False"
   ]
  },
  {
   "cell_type": "code",
   "execution_count": 3,
   "id": "3e9e9967",
   "metadata": {},
   "outputs": [
    {
     "name": "stdout",
     "output_type": "stream",
     "text": [
      "Mời nhập chuỗi:Long nè\n",
      "True\n"
     ]
    }
   ],
   "source": [
    "a = input('Mời nhập chuỗi:')\n",
    "print(not a.islower())"
   ]
  },
  {
   "cell_type": "markdown",
   "id": "e14eae7c",
   "metadata": {},
   "source": [
    "Nhập vào một chuỗi, kiểm tra xem chuỗi đó có ký tự nào là chữ in thường hay không, nếu có thì in True, không có thì in False"
   ]
  },
  {
   "cell_type": "code",
   "execution_count": 4,
   "id": "ab00180c",
   "metadata": {},
   "outputs": [
    {
     "name": "stdout",
     "output_type": "stream",
     "text": [
      "Mời nhập chuỗi:Ở ĐÂY CHÚNG TÔI ĂN MẶN\n",
      "False\n"
     ]
    }
   ],
   "source": [
    "a = input('Mời nhập chuỗi:')\n",
    "print(not a.isupper())"
   ]
  },
  {
   "cell_type": "markdown",
   "id": "eab86ecf",
   "metadata": {},
   "source": [
    "Nhập vào một chuỗi a và chuỗi b, tìm vị trí đầu tiên xuất hiện chuỗi b trong chuỗi a"
   ]
  },
  {
   "cell_type": "code",
   "execution_count": 38,
   "id": "051eb4af",
   "metadata": {},
   "outputs": [
    {
     "name": "stdout",
     "output_type": "stream",
     "text": [
      "Mời nhập chuỗi a:moshi \n",
      "Mời nhập chuỗi b:shi\n",
      "2\n"
     ]
    }
   ],
   "source": [
    "a = input('Mời nhập chuỗi a:')\n",
    "b = input('Mời nhập chuỗi b:')\n",
    "print(a.index(b))"
   ]
  },
  {
   "cell_type": "markdown",
   "id": "9239bc4e",
   "metadata": {},
   "source": [
    "Nhập vào một chuỗi a, hãy xóa từ đầu tiên trong chuỗi a, rồi in ra màn hình"
   ]
  },
  {
   "cell_type": "code",
   "execution_count": 7,
   "id": "90967cd9",
   "metadata": {},
   "outputs": [
    {
     "name": "stdout",
     "output_type": "stream",
     "text": [
      "Mời nhập chuỗi a:xin chào mọi người\n",
      "chào mọi người\n"
     ]
    }
   ],
   "source": [
    "a = input('Mời nhập chuỗi a:')\n",
    "b = a.find(\" \") + 1\n",
    "print(a[b:])"
   ]
  },
  {
   "cell_type": "markdown",
   "id": "05b74fb4",
   "metadata": {},
   "source": [
    "### Bài 1\n",
    "\n",
    "Nhập vào một chuỗi, đếm xem có bao nhiêu từ trong chuỗi kết thúc bằng chữ n"
   ]
  },
  {
   "cell_type": "code",
   "execution_count": 13,
   "id": "d126675c",
   "metadata": {},
   "outputs": [
    {
     "name": "stdout",
     "output_type": "stream",
     "text": [
      "Mời nhập chuỗi:xin chào các bạn nha\n",
      "2\n"
     ]
    }
   ],
   "source": [
    "chuoi = input('Mời nhập chuỗi:')\n",
    "chuoi += \" \"\n",
    "a = chuoi.count(\"n \") + chuoi.count(\"n,\") + chuoi.count(\"n.\") + chuoi.count(\"n?\") + chuoi.count(\"n!\")\n",
    "print(a)"
   ]
  },
  {
   "cell_type": "markdown",
   "id": "53a78d35",
   "metadata": {},
   "source": [
    "### Bài 2\n",
    "\n",
    "Nhập vào một chuỗi, kiểm tra xem chuỗi đó có ký tự hoa hoặc ký tự thường hay không."
   ]
  },
  {
   "cell_type": "code",
   "execution_count": 14,
   "id": "f5be8c39",
   "metadata": {},
   "outputs": [
    {
     "name": "stdout",
     "output_type": "stream",
     "text": [
      "Mời nhập chuỗi a:Long đây mà mọi người\n",
      "chuỗi có ký tự in hoa: True\n",
      "chuỗi có ký tự in hoa: True\n"
     ]
    }
   ],
   "source": [
    "a = input('Mời nhập chuỗi a:')\n",
    "print(\"chuỗi có ký tự in hoa:\", not a.isupper())\n",
    "print(\"chuỗi có ký tự in hoa:\", not a.islower())"
   ]
  },
  {
   "cell_type": "markdown",
   "id": "64ca662e",
   "metadata": {},
   "source": [
    "### Bài 3\n",
    "\n",
    "Nhập vào một chuỗi, kiểm tra tính đối xứng của chuỗi đó"
   ]
  },
  {
   "cell_type": "code",
   "execution_count": 3,
   "id": "749f4136",
   "metadata": {},
   "outputs": [
    {
     "name": "stdout",
     "output_type": "stream",
     "text": [
      "Mời nhập chuỗi a:abcdedcba\n",
      "True\n"
     ]
    }
   ],
   "source": [
    "a = input('Mời nhập chuỗi a:')\n",
    "b = a[::-1]\n",
    "\n",
    "print(a==b)"
   ]
  },
  {
   "cell_type": "markdown",
   "id": "85dd8fef",
   "metadata": {},
   "source": [
    "### Bài 4\n",
    "\n",
    "Nhập vào một chuỗi, in ra các ký tự trong chuỗi và nếu là ký tự hoa thì in kèm True, ký tự thường thì in kèm False"
   ]
  },
  {
   "cell_type": "code",
   "execution_count": 8,
   "id": "0d099247",
   "metadata": {},
   "outputs": [
    {
     "name": "stdout",
     "output_type": "stream",
     "text": [
      "Mời nhập chuỗi a:Abc\n",
      "A True\n",
      "b False\n",
      "c False\n"
     ]
    }
   ],
   "source": [
    "a = input('Mời nhập chuỗi a:')\n",
    "\n",
    "k = 0\n",
    "for i in range(len(a)):\n",
    "    print(a[k],a[k].isupper())\n",
    "    k += 1"
   ]
  },
  {
   "cell_type": "markdown",
   "id": "1373dc74",
   "metadata": {},
   "source": [
    "### Bài 5\n",
    "\n",
    "Nhập vào một chuỗi, tìm các ký tự chỉ xuất hiện một lần trong chuỗi (nếu xuất hiện 1 lần in true, xuất hiện nhiều lần in false)\n",
    "\n",
    "Ví dụ:\n",
    "\n",
    "Nhập chuỗi: \"ABAbc\"\n",
    "\n",
    "In:\n",
    "\n",
    "A: False\n",
    "\n",
    "B: True\n",
    "\n",
    "A: False\n",
    "\n",
    "b: True\n",
    "\n",
    "c: True"
   ]
  },
  {
   "cell_type": "code",
   "execution_count": 10,
   "id": "a93bc53d",
   "metadata": {},
   "outputs": [
    {
     "name": "stdout",
     "output_type": "stream",
     "text": [
      "Mời nhập chuỗi a:Abbcc\n",
      "A: True\n",
      "b: False\n",
      "b: False\n",
      "c: False\n",
      "c: False\n"
     ]
    }
   ],
   "source": [
    "a = input('Mời nhập chuỗi a:')\n",
    "k = 0\n",
    "for i in range(len(a)):\n",
    "    print(a[k],a.count(a[k])==1,sep = \": \")\n",
    "    k += 1"
   ]
  },
  {
   "cell_type": "markdown",
   "id": "69bebf4c",
   "metadata": {},
   "source": [
    "### Bài 6\n",
    "\n",
    "Nhập vào một chuỗi, kiểm tra trong chuỗi có con số hay không, nếu có in True, không có in False"
   ]
  },
  {
   "cell_type": "code",
   "execution_count": 25,
   "id": "1b4eab4f",
   "metadata": {},
   "outputs": [
    {
     "name": "stdout",
     "output_type": "stream",
     "text": [
      "Mời nhập chuỗi a:a87cs\n",
      "True\n"
     ]
    }
   ],
   "source": [
    "a = input('Mời nhập chuỗi a:')\n",
    "b = 0\n",
    "for i in range(9):\n",
    "    b = b + a.count(str(i))\n",
    "print(not b==0)"
   ]
  },
  {
   "cell_type": "code",
   "execution_count": 21,
   "id": "a6135db8",
   "metadata": {},
   "outputs": [
    {
     "name": "stdout",
     "output_type": "stream",
     "text": [
      "Nhap chuoi:abcs@ab\n",
      "False\n"
     ]
    }
   ],
   "source": [
    "a = input(\"Nhap chuoi:\")\n",
    "b = False\n",
    "k = 0\n",
    "for i in range (len(a)):\n",
    "    b = b or a[k].isnumeric() ## Sử dụng biến tra từng số để trả lại 1 kết quả \n",
    "    k += 1\n",
    "print(b)"
   ]
  },
  {
   "cell_type": "markdown",
   "id": "1e51403c",
   "metadata": {},
   "source": [
    "### Bài 7\n",
    "\n",
    "Nhập vào một chuỗi, tách những con số có trong chuỗi ra rồi tính tổng của chúng\n",
    "\n",
    "In tổng lên màn hình"
   ]
  },
  {
   "cell_type": "code",
   "execution_count": 2,
   "id": "a34e349d",
   "metadata": {},
   "outputs": [
    {
     "name": "stdout",
     "output_type": "stream",
     "text": [
      "Mời nhập chuỗi a:canh2342\n",
      "11\n"
     ]
    }
   ],
   "source": [
    "a = input('Mời nhập chuỗi a:')\n",
    "b = 0\n",
    "k = 0\n",
    "for i in range(len(a)):\n",
    "    b += k*a.count(str(k))\n",
    "    k += 1\n",
    "print(b)"
   ]
  },
  {
   "cell_type": "markdown",
   "id": "e951779d",
   "metadata": {},
   "source": [
    "### Bài 8\n",
    "\n",
    "Nhập vào một chuỗi, đảo ngược chuỗi đã nhập rồi in ra màn hình"
   ]
  },
  {
   "cell_type": "code",
   "execution_count": 26,
   "id": "9305f0f1",
   "metadata": {},
   "outputs": [
    {
     "name": "stdout",
     "output_type": "stream",
     "text": [
      "Mời nhập chuỗi a:abcs\n",
      "scba\n"
     ]
    }
   ],
   "source": [
    "a = input('Mời nhập chuỗi a:')\n",
    "print(a[::-1])"
   ]
  },
  {
   "cell_type": "markdown",
   "id": "04194b5c",
   "metadata": {},
   "source": [
    "### Bài 9\n",
    "\n",
    "Nhập vào một chuỗi, kiểm tra xem mỗi từ trong chuỗi có được viết hoa chữ cái đầu hay không, nếu tất cả đều được viết hoa thì in ra True, còn không thì in ra False\n",
    "\n",
    "Trong trường hợp là False, hãy viết hoa tất cả các chữ cái đầu của mỗi từ rồi in lên màn hình\n",
    "\n",
    "Cách làm thông thường:"
   ]
  },
  {
   "cell_type": "code",
   "execution_count": null,
   "id": "9f947c7d",
   "metadata": {},
   "outputs": [],
   "source": []
  },
  {
   "cell_type": "markdown",
   "id": "f43e32af",
   "metadata": {},
   "source": [
    "Cách sử dụng lệnh có sẵn:"
   ]
  },
  {
   "cell_type": "code",
   "execution_count": 4,
   "id": "714f1412",
   "metadata": {},
   "outputs": [
    {
     "name": "stdout",
     "output_type": "stream",
     "text": [
      "Mời nhập chuỗi a:ác nhân\n",
      "False\n",
      "Ác Nhân\n"
     ]
    }
   ],
   "source": [
    "a = input('Mời nhập chuỗi a:')\n",
    "print(a.istitle())\n",
    "print(a.title())"
   ]
  }
 ],
 "metadata": {
  "kernelspec": {
   "display_name": "Python 3 (ipykernel)",
   "language": "python",
   "name": "python3"
  },
  "language_info": {
   "codemirror_mode": {
    "name": "ipython",
    "version": 3
   },
   "file_extension": ".py",
   "mimetype": "text/x-python",
   "name": "python",
   "nbconvert_exporter": "python",
   "pygments_lexer": "ipython3",
   "version": "3.10.4"
  }
 },
 "nbformat": 4,
 "nbformat_minor": 5
}
