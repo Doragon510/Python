{
 "cells": [
  {
   "cell_type": "markdown",
   "id": "5761f2a7",
   "metadata": {},
   "source": [
    "Hãy kiểm tra mảng số nguyên có tồn tại hai giá trị không liên tiếp hay không ?"
   ]
  },
  {
   "cell_type": "code",
   "execution_count": null,
   "id": "a0acf4b7",
   "metadata": {},
   "outputs": [],
   "source": [
    "L = []\n",
    "def checkL():\n",
    "    for i in range(len(L-1)):\n",
    "        if L[i] == 0 and L[i+1] == 0:\n",
    "            return True\n",
    "    return False"
   ]
  },
  {
   "cell_type": "markdown",
   "id": "ae867e74",
   "metadata": {},
   "source": [
    "Hãy kiểm tra mảng số nguyên có tồn tại giá trị chẵn hay không? Nếu không tồn tại giá trị chẵn trả về giá trị 0, hay ngược lại trả về 1."
   ]
  },
  {
   "cell_type": "code",
   "execution_count": 3,
   "id": "1abdd057",
   "metadata": {},
   "outputs": [
    {
     "data": {
      "text/plain": [
       "0"
      ]
     },
     "execution_count": 3,
     "metadata": {},
     "output_type": "execute_result"
    }
   ],
   "source": [
    "def checkL(L):\n",
    "    for i in L:\n",
    "        if i%2 == 0:\n",
    "            return 1\n",
    "    return 0\n",
    "checkL([1,3,7,9,5])"
   ]
  },
  {
   "cell_type": "markdown",
   "id": "5a49eda8",
   "metadata": {},
   "source": [
    "Hãy cho biết mảng các số nguyên có toàn số chẵn hay không? Nếu có tồn tại giá trị lẻ trả về giá trị 0, ngược lại trả về 1."
   ]
  },
  {
   "cell_type": "code",
   "execution_count": 5,
   "id": "9b4d2f7d",
   "metadata": {},
   "outputs": [
    {
     "data": {
      "text/plain": [
       "1"
      ]
     },
     "execution_count": 5,
     "metadata": {},
     "output_type": "execute_result"
    }
   ],
   "source": [
    "def checkL(L):\n",
    "    for i in L:\n",
    "        if i%2 != 0:\n",
    "            return 0\n",
    "    return 1\n",
    "checkL([2,4,6,8,58])"
   ]
  },
  {
   "cell_type": "markdown",
   "id": "a736df1e",
   "metadata": {},
   "source": [
    "Hãy kiểm tra mảng một chiều các số thực có đối xứng hay không?"
   ]
  },
  {
   "cell_type": "code",
   "execution_count": 8,
   "id": "c360bf6e",
   "metadata": {},
   "outputs": [
    {
     "data": {
      "text/plain": [
       "True"
      ]
     },
     "execution_count": 8,
     "metadata": {},
     "output_type": "execute_result"
    }
   ],
   "source": [
    "def checkL(L):\n",
    "    for i in range(len(L)//2):\n",
    "        if L[i] != L[-1-i]:\n",
    "            return False\n",
    "    return True\n",
    "checkL([2,4,6,4,2])"
   ]
  },
  {
   "cell_type": "markdown",
   "id": "975b9821",
   "metadata": {},
   "source": [
    "Ta định nghĩa một mảng có tính chẵn lẻ, khi tổng của hai phần tử liên tiếp trong mảng luôn luôn là số lẻ. Hãy viết hàm kiểm tra mảng a có tính chẵn lẻ hay không?"
   ]
  },
  {
   "cell_type": "code",
   "execution_count": 10,
   "id": "7ec6108e",
   "metadata": {},
   "outputs": [
    {
     "data": {
      "text/plain": [
       "True"
      ]
     },
     "execution_count": 10,
     "metadata": {},
     "output_type": "execute_result"
    }
   ],
   "source": [
    "def checkL(L):\n",
    "    for i in range(len(L)-1):\n",
    "        if (L[i] + L[i+1])%2 == 0:\n",
    "            return False\n",
    "    return True\n",
    "checkL([21,4,61,4,21])"
   ]
  },
  {
   "cell_type": "markdown",
   "id": "434a04e0",
   "metadata": {},
   "source": [
    "Hãy kiểm tra mảng có tăng dần hay không?"
   ]
  },
  {
   "cell_type": "code",
   "execution_count": 11,
   "id": "ba375910",
   "metadata": {},
   "outputs": [
    {
     "data": {
      "text/plain": [
       "False"
      ]
     },
     "execution_count": 11,
     "metadata": {},
     "output_type": "execute_result"
    }
   ],
   "source": [
    "def checkL(L):\n",
    "    for i in range(len(L)-1):\n",
    "        if L[i] > L[i+1]:\n",
    "            return False\n",
    "    return True\n",
    "checkL([21,4,61,4,21])"
   ]
  },
  {
   "cell_type": "markdown",
   "id": "2dca9538",
   "metadata": {},
   "source": [
    "Hãy kiểm tra mảng có giảm dần hay không?"
   ]
  },
  {
   "cell_type": "code",
   "execution_count": null,
   "id": "eb5154cc",
   "metadata": {},
   "outputs": [],
   "source": [
    "def checkL(L):\n",
    "    for i in range(len(L)-1):\n",
    "        if L[i] < L[i+1]:\n",
    "            return False\n",
    "    return True"
   ]
  },
  {
   "cell_type": "markdown",
   "id": "24dd211d",
   "metadata": {},
   "source": [
    "Hãy cho biết các phần tử trong mảng có lập thành cấp số cộng không? Nếu có hãy chỉ ra công sai d"
   ]
  },
  {
   "cell_type": "code",
   "execution_count": 16,
   "id": "e9dda389",
   "metadata": {},
   "outputs": [
    {
     "name": "stdout",
     "output_type": "stream",
     "text": [
      "3\n"
     ]
    },
    {
     "data": {
      "text/plain": [
       "True"
      ]
     },
     "execution_count": 16,
     "metadata": {},
     "output_type": "execute_result"
    }
   ],
   "source": [
    "def checkL(L):\n",
    "    L.sort()\n",
    "    for i in range(len(L)-2):\n",
    "        if (L[i+1] - L[i]) != (L[i+2] - L[i+1]):\n",
    "            return False\n",
    "    print(L[i+1] - L[i])\n",
    "    return True\n",
    "checkL([21,6,9,12,15,18])"
   ]
  },
  {
   "cell_type": "markdown",
   "id": "19be5057",
   "metadata": {},
   "source": [
    "Hãy cho biết các phần tử trong mảng có bằng nhau không?"
   ]
  },
  {
   "cell_type": "code",
   "execution_count": 17,
   "id": "1ff05a5d",
   "metadata": {},
   "outputs": [],
   "source": [
    "def checkL(L):\n",
    "    for i in range(len(L)-1):\n",
    "        if L[i] != L[i+1]:\n",
    "            return False\n",
    "    return True"
   ]
  },
  {
   "cell_type": "markdown",
   "id": "58268599",
   "metadata": {},
   "source": [
    "Người ta định nghĩa một mảng được gọi là “dạng sóng” khi phần tử có giá trị số I lớn hơn hoặc nhỏ hơn hai phần tử xung quanh nó. Hãy viết hàm kiểm tra trong a sóng hay không?"
   ]
  },
  {
   "cell_type": "code",
   "execution_count": 20,
   "id": "1572fb15",
   "metadata": {},
   "outputs": [
    {
     "data": {
      "text/plain": [
       "True"
      ]
     },
     "execution_count": 20,
     "metadata": {},
     "output_type": "execute_result"
    }
   ],
   "source": [
    "def checkL(L):\n",
    "    for i in range(1,len(L)-1):\n",
    "        if (L[i]-L[i-1])*(L[i]-L[i+1]) <= 0:\n",
    "            return False\n",
    "    return True\n",
    "checkL([21,6,9,5,7,6])"
   ]
  },
  {
   "cell_type": "markdown",
   "id": "3a06a75d",
   "metadata": {},
   "source": [
    "Hãy đếm số lượng giá trị trong mảng thỏa tính chất: “lớn hơn tất cả các giá trị đứng đằng trước nó”"
   ]
  },
  {
   "cell_type": "code",
   "execution_count": null,
   "id": "33f9e4a3",
   "metadata": {},
   "outputs": [],
   "source": []
  },
  {
   "cell_type": "markdown",
   "id": "09720f79",
   "metadata": {},
   "source": [
    "Hãy trộn hai mảng tăng dần lại thành 1 mảng được sắp thứ tự tăng dần"
   ]
  },
  {
   "cell_type": "code",
   "execution_count": null,
   "id": "d91a0d7c",
   "metadata": {},
   "outputs": [],
   "source": []
  },
  {
   "cell_type": "markdown",
   "id": "c2a03df7",
   "metadata": {},
   "source": [
    "Hãy đưa các số chẵn trong mảng về đầu mảng, số lẻ về cuối mảng và các phần tử 0 năm ở giữa"
   ]
  },
  {
   "cell_type": "code",
   "execution_count": null,
   "id": "2595ba23",
   "metadata": {},
   "outputs": [],
   "source": []
  },
  {
   "cell_type": "markdown",
   "id": "88a5356c",
   "metadata": {},
   "source": [
    "Hãy đưa các số chia hết cho 3 về đầu mảng"
   ]
  },
  {
   "cell_type": "code",
   "execution_count": null,
   "id": "2015e143",
   "metadata": {},
   "outputs": [],
   "source": []
  },
  {
   "cell_type": "markdown",
   "id": "873d2a46",
   "metadata": {},
   "source": [
    "Hãy xuất mảng theo yêu cầu: các phần tử chẵn nằm trên một hàng, các phần tử lẻ nằm ở hàng tiếp theo"
   ]
  },
  {
   "cell_type": "code",
   "execution_count": null,
   "id": "99109b77",
   "metadata": {},
   "outputs": [],
   "source": []
  },
  {
   "cell_type": "markdown",
   "id": "5e2c226d",
   "metadata": {},
   "source": [
    "Hãy biến đổi mảng bằng cách thay các giá trị lớn nhất bằng giá trị nhỏ nhất và ngược lại"
   ]
  },
  {
   "cell_type": "code",
   "execution_count": null,
   "id": "62eefa1a",
   "metadata": {},
   "outputs": [],
   "source": []
  },
  {
   "cell_type": "markdown",
   "id": "4c5e92fa",
   "metadata": {},
   "source": [
    "Hãy đảo ngược thứ tự các số chẵn và các số lẻ trong mảng mà vẫn giữ nguyên vị trí tương đối của chúng"
   ]
  },
  {
   "cell_type": "code",
   "execution_count": null,
   "id": "0d6ba5f3",
   "metadata": {},
   "outputs": [],
   "source": [
    "[2,5,7,14] ~~> [5,2,14,7]\n",
    "## List phải có số lượng số lẻ bằng với số lượng số chẳn"
   ]
  }
 ],
 "metadata": {
  "kernelspec": {
   "display_name": "Python 3 (ipykernel)",
   "language": "python",
   "name": "python3"
  },
  "language_info": {
   "codemirror_mode": {
    "name": "ipython",
    "version": 3
   },
   "file_extension": ".py",
   "mimetype": "text/x-python",
   "name": "python",
   "nbconvert_exporter": "python",
   "pygments_lexer": "ipython3",
   "version": "3.10.4"
  }
 },
 "nbformat": 4,
 "nbformat_minor": 5
}
