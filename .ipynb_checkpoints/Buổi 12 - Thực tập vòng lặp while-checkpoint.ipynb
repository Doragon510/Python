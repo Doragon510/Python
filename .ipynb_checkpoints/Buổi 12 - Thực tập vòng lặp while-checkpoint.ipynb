{
 "cells": [
  {
   "cell_type": "markdown",
   "id": "1f7be993",
   "metadata": {},
   "source": [
    "# Thực tập vòng lặp While\n",
    "\n",
    "### Bài 1\n",
    "\n",
    "Nhập vào số a, sử dụng lệnh while (không sử dụng break và for) để xác định xem số đó có phải là số nguyên tố hay không"
   ]
  },
  {
   "cell_type": "code",
   "execution_count": 17,
   "id": "8cb73965",
   "metadata": {},
   "outputs": [
    {
     "name": "stdout",
     "output_type": "stream",
     "text": [
      "Nhập số a:5\n",
      "Nhập đúng quy định\n",
      "Số nguyên tố\n"
     ]
    }
   ],
   "source": [
    "while True:\n",
    "    a = int(input('Nhập số a:'))\n",
    "    if a > 0:\n",
    "        print('Nhập đúng quy định')\n",
    "        break\n",
    "    print('Nhập sai quy định')\n",
    "i = 2\n",
    "b = 0\n",
    "\n",
    "while i < a - 2:\n",
    "    if a % i == 0:\n",
    "        b += 1\n",
    "    i += 1\n",
    "if b == 0:\n",
    "    print('Số nguyên tố')\n",
    "else:\n",
    "    print('Không phải số nguyên tố')"
   ]
  },
  {
   "cell_type": "markdown",
   "id": "9f2357ca",
   "metadata": {},
   "source": [
    "### Bài 2\n",
    "\n",
    "Hãy sử dụng lệnh while lập trình cho bài đoán số ở buổi thứ 9"
   ]
  },
  {
   "cell_type": "code",
   "execution_count": null,
   "id": "db79cb9d",
   "metadata": {},
   "outputs": [],
   "source": []
  },
  {
   "cell_type": "markdown",
   "id": "58f5b789",
   "metadata": {},
   "source": [
    "### Bài 3\n",
    "\n",
    "Nhập vào số a, hãy đếm a có bao nhiêu chữ số chẵn, bao nhiêu cữ số lẻ\n",
    "\n",
    "#### Cách 1 (dùng chuỗi):"
   ]
  },
  {
   "cell_type": "code",
   "execution_count": 4,
   "id": "e7f9da21",
   "metadata": {},
   "outputs": [
    {
     "name": "stdout",
     "output_type": "stream",
     "text": [
      "Nhập số a:154\n",
      "Nhập đúng quy định\n",
      "Số chữ số chẵn: 1\n",
      "Số chữ số lẻ: 2\n"
     ]
    }
   ],
   "source": [
    "while True:\n",
    "    a = int(input('Nhập số a:'))\n",
    "    if a > 0:\n",
    "        print('Nhập đúng quy định')\n",
    "        break\n",
    "    print('Nhập sai quy định')\n",
    "\n",
    "a = str(a)\n",
    "SC = 0\n",
    "SL = 0\n",
    "i = 0\n",
    "while i < len(a):\n",
    "    if int(a[i]) % 2 == 0:\n",
    "        SC += 1\n",
    "    else:\n",
    "        SL += 1\n",
    "    i += 1\n",
    "print('Số chữ số chẵn:',SC)\n",
    "print('Số chữ số lẻ:',SL)"
   ]
  },
  {
   "cell_type": "markdown",
   "id": "9a3d9703",
   "metadata": {},
   "source": [
    "#### Cách 2 (không dùng chuỗi):"
   ]
  },
  {
   "cell_type": "code",
   "execution_count": 5,
   "id": "d4e474c8",
   "metadata": {},
   "outputs": [
    {
     "name": "stdout",
     "output_type": "stream",
     "text": [
      "Nhập số a:185\n",
      "Nhập đúng quy định\n",
      "Số chữ số chẵn: 1\n",
      "Số chữ số lẻ: 2\n"
     ]
    }
   ],
   "source": [
    "while True:\n",
    "    a = int(input('Nhập số a:'))\n",
    "    if a > 0:\n",
    "        print('Nhập đúng quy định')\n",
    "        break\n",
    "    print('Nhập sai quy định')\n",
    "\n",
    "\n",
    "SC = 0\n",
    "SL = 0\n",
    "while a != 0:\n",
    "    if (a % 10) % 2 == 0:\n",
    "        SC += 1\n",
    "    else:\n",
    "        SL += 1\n",
    "    a = a // 10\n",
    "print('Số chữ số chẵn:',SC)\n",
    "print('Số chữ số lẻ:',SL)"
   ]
  },
  {
   "cell_type": "markdown",
   "id": "69539ece",
   "metadata": {},
   "source": [
    "### Bài 4\n",
    "\n",
    "Nhập vào số a, hãy tính tổng các chữ số nguyên tố của a"
   ]
  },
  {
   "cell_type": "code",
   "execution_count": 15,
   "id": "f001bd9a",
   "metadata": {},
   "outputs": [
    {
     "name": "stdout",
     "output_type": "stream",
     "text": [
      "Nhập số a:12475\n",
      "Nhập đúng quy định\n",
      "14\n"
     ]
    }
   ],
   "source": [
    "while True:\n",
    "    a = int(input('Nhập số a:'))\n",
    "    if a > 0:\n",
    "        print('Nhập đúng quy định')\n",
    "        break\n",
    "    print('Nhập sai quy định')\n",
    "\n",
    "\n",
    "S = 0\n",
    "while a != 0:\n",
    "    if (a % 10) == 2 or (a % 10) == 3 or (a % 10) == 5 or (a % 10) == 7:\n",
    "        S += a%10\n",
    "    a = a//10\n",
    "print(S)\n",
    "    "
   ]
  },
  {
   "cell_type": "markdown",
   "id": "0a5075a4",
   "metadata": {},
   "source": [
    "### Bài 5\n",
    "\n",
    "Số armstrong là số có tổng của các chữ số mũ số lượng chữ số bằng chính nó\n",
    "\n",
    "Ví dụ\n",
    "\n",
    "Số 371 là một số armstrong vì:\n",
    "\n",
    "371 = 3^3 + 7^3 + 1^3 (3 là số lượng chữ số của 371)\n",
    "\n",
    "Số 1634 là một số armstrong vì:\n",
    "\n",
    "1634 = 1^4 + 6^4 + 3^4 + 4^4 (4 là số lượng chữ số của 1634)\n",
    "\n",
    "Nhập vào số a, kiểm tra xem a có phải là số armstrong không"
   ]
  },
  {
   "cell_type": "code",
   "execution_count": 4,
   "id": "b9ed54a5",
   "metadata": {},
   "outputs": [
    {
     "name": "stdout",
     "output_type": "stream",
     "text": [
      "Nhập số a:1635\n",
      "Nhập đúng quy định\n",
      "1635 không phải là số armstrong\n"
     ]
    }
   ],
   "source": [
    "while True:\n",
    "    a = int(input('Nhập số a:'))\n",
    "    if a > 0:\n",
    "        print('Nhập đúng quy định')\n",
    "        break\n",
    "    print('Nhập sai quy định')\n",
    "\n",
    "b = len(str(a))\n",
    "a0 = a\n",
    "S = 0\n",
    "while a != 0:\n",
    "    S += (a%10)**b\n",
    "    a = a//10\n",
    "if S == a0:\n",
    "    print(a0,'là số armstrong')\n",
    "else:\n",
    "    print(a0,'không phải là số armstrong')"
   ]
  },
  {
   "cell_type": "markdown",
   "id": "f8a584d3",
   "metadata": {},
   "source": [
    "### Bài 6\n",
    "\n",
    "Dãy số fibonacci là dãy số được định nghĩa như sau: 1, 1, 2, 3, 5, 8, 13,... với số kế tiếp sẽ bằng tổng hai số trước đó\n",
    "\n",
    "Nhập vào A, hãy tìm số trong dãy số fibonacci lớn nhất nhưng không vượt quá A"
   ]
  },
  {
   "cell_type": "code",
   "execution_count": 20,
   "id": "3ad4d85b",
   "metadata": {},
   "outputs": [
    {
     "name": "stdout",
     "output_type": "stream",
     "text": [
      "Nhập số a:24\n",
      "Nhập đúng quy định\n",
      "21\n"
     ]
    }
   ],
   "source": [
    "while True:\n",
    "    a = int(input('Nhập số a:'))\n",
    "    if a > 0:\n",
    "        print('Nhập đúng quy định')\n",
    "        break\n",
    "    print('Nhập sai quy định')\n",
    "\n",
    "b = 1\n",
    "c = 1\n",
    "while (b + c) <= a:\n",
    "    c, b = b + c,c\n",
    "print('Số cần tìm là:',c)"
   ]
  },
  {
   "cell_type": "markdown",
   "id": "9fa794f2",
   "metadata": {},
   "source": [
    "### Bài 7\n",
    "\n",
    "Nhập vào A, tìm n nhỏ nhất sao cho\n",
    "\n",
    "1 + 1/2 + 1/3 + 1/4 + ... + 1/n > A"
   ]
  },
  {
   "cell_type": "code",
   "execution_count": 15,
   "id": "246ec002",
   "metadata": {},
   "outputs": [
    {
     "name": "stdout",
     "output_type": "stream",
     "text": [
      "Nhập số a:2\n",
      "Nhập đúng quy định\n",
      "4\n"
     ]
    }
   ],
   "source": [
    "while True:\n",
    "    a = int(input('Nhập số a:'))\n",
    "    if a > 0:\n",
    "        print('Nhập đúng quy định')\n",
    "        break\n",
    "    print('Nhập sai quy định')\n",
    "\n",
    "b = 0\n",
    "S = 0\n",
    "while S < a:\n",
    "    b += 1\n",
    "    S += 1/b\n",
    "    \n",
    "print('Số n cần tìm là:',b)"
   ]
  },
  {
   "cell_type": "markdown",
   "id": "c5fd4d8a",
   "metadata": {},
   "source": [
    "### Bài 8\n",
    "\n",
    "Nhập vào a và b là số nguyên dương (b có một chữ số, nhập sai yêu cầu nhập lại), hãy tìm vị trí đầu tiên (bắt đầu từ bên trái) của b trong a, nếu không tìm thấy thì in kết quả là 0 (ví trí đầu bắt đầu từ 1)\n",
    "\n",
    "<b>Ví dụ:</b>\n",
    "\n",
    "<b>Nhập:</b>\n",
    "- a = 125785\n",
    "- b = 5\n",
    "\n",
    "<b>Kết quả:</b> 3 (do số 5 nằm ở vị trí 3)"
   ]
  },
  {
   "cell_type": "code",
   "execution_count": 19,
   "id": "9edf35ac",
   "metadata": {},
   "outputs": [
    {
     "name": "stdout",
     "output_type": "stream",
     "text": [
      "Nhập số a:175205\n",
      "Nhập đúng quy định\n",
      "Nhập số b:3\n",
      "Nhập đúng quy định\n",
      "0\n"
     ]
    }
   ],
   "source": [
    "while True:\n",
    "    a = int(input('Nhập số a:'))\n",
    "    if a > 0:\n",
    "        print('Nhập đúng quy định')\n",
    "        break\n",
    "    print('Nhập sai quy định')\n",
    "\n",
    "while True:\n",
    "    b = int(input('Nhập số b:'))\n",
    "    if 0 < b < 10:\n",
    "        print('Nhập đúng quy định')\n",
    "        break\n",
    "    print('Nhập sai quy định')\n",
    "\n",
    "c = str(a).find(str(b))\n",
    "if c == -1:\n",
    "    c = 0\n",
    "else:\n",
    "    c += + 1\n",
    "print('Vị trí đầu tiên của',b,'trong',a,'là:',c)"
   ]
  }
 ],
 "metadata": {
  "kernelspec": {
   "display_name": "Python 3 (ipykernel)",
   "language": "python",
   "name": "python3"
  },
  "language_info": {
   "codemirror_mode": {
    "name": "ipython",
    "version": 3
   },
   "file_extension": ".py",
   "mimetype": "text/x-python",
   "name": "python",
   "nbconvert_exporter": "python",
   "pygments_lexer": "ipython3",
   "version": "3.10.4"
  }
 },
 "nbformat": 4,
 "nbformat_minor": 5
}
