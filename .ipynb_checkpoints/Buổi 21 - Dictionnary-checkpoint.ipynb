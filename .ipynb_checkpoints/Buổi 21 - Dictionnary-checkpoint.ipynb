{
 "cells": [
  {
   "cell_type": "markdown",
   "id": "a20f121d",
   "metadata": {},
   "source": [
    "# Dictionnary\n",
    "\n",
    "Dictionnary là một dạng list đặc biệt, nó khác list ở chỗ không lưu trữ các giá trị theo chỉ số vị trí, thay vào đó Dictionary sẽ lưu trữ các giá trị theo key\n",
    "\n",
    "##### Tài liệu tham khảo: https://www.w3schools.com/python/python_dictionaries.asp\n",
    "\n",
    "### Khai báo một dictionary\n",
    "\n",
    "Cú pháp:\n",
    "\n",
    "`<tên dictionary> = {}`\n",
    "\n",
    "### Dictionary được khai báo bằng hai dấu hoặc nhọn\n",
    "\n",
    "Đây là một dictionary rỗng\n",
    "\n",
    "<b>Ví dụ 1:</b>\n",
    "\n",
    "`a = {}`\n",
    "\n",
    "a là một dictionary rỗng\n",
    "\n",
    "<b>Ví dụ 2:</b>\n",
    "\n",
    "`a = {\"tên\": \"Nguyễn Tâm Điền\", \"tuổi\": 13, \"giới tính\": \"Nam\"}`\n",
    "\n",
    "b là một dictionary có 3 key, mõi key đều có một giá trị riêng biệt\n",
    "\n",
    "Key có thể mang kiểu dữ liệu là chuỗi hoặc số\n",
    "\n",
    "##### Mỗi một key đều phải có giá trị của riêng nó, không thể khai báo key không có giá trị\n",
    "\n",
    "<b>Hãy khai báo một dictionary có 3 phần tử</b>"
   ]
  },
  {
   "cell_type": "code",
   "execution_count": 3,
   "id": "d835f461",
   "metadata": {},
   "outputs": [
    {
     "name": "stdout",
     "output_type": "stream",
     "text": [
      "3\n",
      "LoL\n"
     ]
    }
   ],
   "source": [
    "D = {'book':'Grimgar','game':'Genshin','job':'auditor','game':'LoL'}\n",
    "print(len(D)) # nếu khai báo trùng key, giá trị sau sẽ ghi đè giá trị trước\n",
    "print(D['game'])"
   ]
  },
  {
   "cell_type": "markdown",
   "id": "be1e321c",
   "metadata": {},
   "source": [
    "### Thêm key vào dictionary\n",
    "\n",
    "Cú pháp:\n",
    "\n",
    "`<tên dictionary>[<key>] = <giá trị>`\n",
    "\n",
    "<b>Ví dụ 1:</b>\n",
    "\n",
    "`a = {}\n",
    "a[\"tên\"] = \"NTD\"`\n",
    "\n",
    "a là một dictionary có một phần tử, phần tử đó có key là \"tên\" và giá trị của key đó là \"NTD\"\n",
    "\n",
    "##### Lưu ý, nếu trong trường hợp đã tồn tại key trong dictionary, dùng lệnh trên sẽ thay đổi giá trị key đó (không phải thêm key khác vào)\n",
    "\n",
    "<b>Ví dụ 2:</b>\n",
    "\n",
    "`a = {}\n",
    "a[\"tên\"] = \"NTD\"\n",
    "a[\"tên\"] = \"Nguyễn Tâm Điền\"`\n",
    "\n",
    "a vẫn là một dictionary có một phần tử, phần tử đó có key là \"tên\" và giá trị của key đó là \"Nguyễn Tâm Điền\"\n",
    "\n",
    "<b>Hãy khai báo một dictionary không có phần tử nào, sau đó thêm một phần tử vào dictionary đó</b>"
   ]
  },
  {
   "cell_type": "code",
   "execution_count": 5,
   "id": "7573ebef",
   "metadata": {},
   "outputs": [
    {
     "name": "stdout",
     "output_type": "stream",
     "text": [
      "{'book': 'Grimgar', 'game': 'fate/GO', 'job': 'auditor', 'age': '27'}\n"
     ]
    }
   ],
   "source": [
    "D = {'book':'Grimgar','game':'Genshin','job':'auditor','game':'LoL'}\n",
    "D['age'] = '27' # lệnh thêm giá trị\n",
    "D['game'] = 'fate/GO' # lệnh thay đổi giá trị\n",
    "print(D)"
   ]
  },
  {
   "cell_type": "code",
   "execution_count": 6,
   "id": "5119ebb9",
   "metadata": {},
   "outputs": [
    {
     "name": "stdout",
     "output_type": "stream",
     "text": [
      "Nhập vào key: abc\n",
      "Nhập vào value: bxc\n",
      "Nhập vào key: aeb\n",
      "Nhập vào value: csg\n",
      "Nhập vào key: abc\n",
      "Nhập vào key: sgew\n",
      "Nhập vào value: hwc\n",
      "Nhập vào key: \n",
      "{'abc': 'bxc', 'aeb': 'csg', 'sgew': 'hwc'}\n"
     ]
    }
   ],
   "source": [
    "D = {}\n",
    "while True:\n",
    "    key = input('Nhập vào key: ')\n",
    "    if key == \"\":\n",
    "        break\n",
    "    if key not in D:\n",
    "        value = input('Nhập vào value: ')\n",
    "        D[key] = value\n",
    "print(D)"
   ]
  },
  {
   "cell_type": "markdown",
   "id": "65c98825",
   "metadata": {},
   "source": [
    "### Truy xuất phần tử trong dictionary\n",
    "\n",
    "Cú pháp:\n",
    "\n",
    "`<tên dictionary>[<key>]`\n",
    "\n",
    "<b>Ví dụ:</b>\n",
    "\n",
    "`a = {\"tên\": \"Nguyễn Tâm Điền\", \"tuổi\": 13, \"giới tính\": \"Nam\"}\n",
    "print(a[\"tên\"])`\n",
    "\n",
    "Màn hình sẽ in: Nguyễn Tâm Điền\n",
    "\n",
    "<b>Hãy khai báo một dictionary rồi in ra màn hình một phần tử bất kỳ trong dictionary đó</b>"
   ]
  },
  {
   "cell_type": "code",
   "execution_count": 8,
   "id": "f6159385",
   "metadata": {},
   "outputs": [
    {
     "name": "stdout",
     "output_type": "stream",
     "text": [
      "Genshin\n"
     ]
    }
   ],
   "source": [
    "D = {'book':'Grimgar','game':'Genshin','job':'auditor'}\n",
    "\n",
    "print(D['game'])"
   ]
  },
  {
   "cell_type": "markdown",
   "id": "afa92f87",
   "metadata": {},
   "source": [
    "### Sao chép dictionary\n",
    "\n",
    "##### Việc sao chép dictionary được thực hiện hệt như sao chép list, chúng ta cần phải sử dụng lệnh copy()"
   ]
  },
  {
   "cell_type": "markdown",
   "id": "ef7e800d",
   "metadata": {},
   "source": [
    "### Duyệt dictionary bằng lệnh for\n",
    "\n",
    "Cú pháp:\n",
    "\n",
    "`for <tên biến> in <tên dictionary>:`\n",
    "\n",
    "Biến sẽ có giá trị là từng key trong dictionary\n",
    "\n",
    "<b>Ví dụ:</b>\n",
    "\n",
    "`a = {\"tên\": \"Nguyễn Tâm Điền\", \"tuổi\": 13, \"giới tính\": \"Nam\"}\n",
    "for i in a:\n",
    "    print(i)`\n",
    "    \n",
    "Màn hình sẽ in ra:\n",
    "\n",
    "tên\n",
    "\n",
    "tuổi\n",
    "\n",
    "giới tính\n",
    "\n",
    "<b>Hãy khai báo một dictionary rồi in ra màn hình toàn bộ giá trị trong dictionary đó</b>"
   ]
  },
  {
   "cell_type": "code",
   "execution_count": 9,
   "id": "3bdd1508",
   "metadata": {},
   "outputs": [
    {
     "name": "stdout",
     "output_type": "stream",
     "text": [
      "book Grimgar\n",
      "game Genshin\n",
      "job auditor\n"
     ]
    }
   ],
   "source": [
    "D = {'book':'Grimgar','game':'Genshin','job':'auditor'}\n",
    "for i in D:\n",
    "    print(i,D[i])"
   ]
  },
  {
   "cell_type": "markdown",
   "id": "1982f4b1",
   "metadata": {},
   "source": [
    "### Bài tập"
   ]
  },
  {
   "cell_type": "markdown",
   "id": "3060a950",
   "metadata": {},
   "source": [
    "Viết chương trình đếm số lần xuất hiện của một từ trong một văn bản nhất định"
   ]
  },
  {
   "cell_type": "code",
   "execution_count": null,
   "id": "af64832c",
   "metadata": {},
   "outputs": [],
   "source": [
    "vanban = '''Trưởng phòng tôi là người sâu sắc, lại cũng lắm sáng kiến đến cái mức có khi bọn chúng tôi trong cơ quan phát mệt vì anh.\n",
    "Trước đây chừng dăm tháng, để chuẩn bị cho tấm lịch năm sau, anh tỏ ý không bằng lòng với cách làm ăn từ trước tới giờ - Sang năm chúng ta sẽ đem đến cho mỗi gia đình một bộ sưu tập chuyên đề về thuyền và biển - anh nói quả quyết - Thôi, bỏ cái lối mỗi thứ một tí đi. Phải có một bộ sưu tập chuyên đề. 12 tháng là 12 bức ảnh nghệ thuật về thuyền và biển. Không có người. Hoàn toàn thế giới tĩnh vật.\n",
    "Chúng tôi xách máy lên đường, suy nghĩ, chọn cảnh, bấm máy suốt năm tháng. Và tất cả những gì thu được bằng ánh sáng đen trắng trên giấy ảnh đang được bày ra la liệt trên hai chiếc bàn ghép lại, và quả tình lúc đó tôi đã lấy làm bằng lòng lắm, đoán chắc không còn phải xách máy đi chụp bổ sung như mọi năm nữa.\n",
    "Làn khói thuốc lá cuộn phun ra mù mịt trước cặp mắt đầy tinh khôn của trưởng phòng đang nheo lại sau mắt kính lão. Đột nhiên trưởng phòng quay sang phía tôi hỏi:\n",
    "- Bây giờ đã là tháng mấy nhỉ?\n",
    "- Tháng bảy. - Tôi đáp với một vẻ dè chừng.\n",
    "- Tháng này ở biển vẫn còn sương chứ?\n",
    "- Chỉ có bão táp với biển động. Muốn lấy sương thì phải nghĩ đến từ tháng ba cơ.\n",
    "- Này anh Phùng - trưởng phòng dường như đã nhìn thấy rõ mọi ý nghĩ ngần ngại của tôi, cho nên anh vừa nói vừa nhăn nhó cái mặt lộ vẻ đau khổ - tôi cho anh một tháng, một tháng là đủ chứ gì?... Anh giúp tôi thêm một cảnh buổi sáng có sương đi.\n",
    "- Trời ơi - tôi nhặt một bức ảnh ngay trong tầm tay - với hàng trăm bức ảnh đẹp, chụp công phu thế này mà anh... - Đẹp thì đẹp thực - anh cướp lời tôi - Và nhất là lại có hồn nữa. Đúng là những bức ảnh nghệ thuật. Nói thực tình năm nay các anh đi về, khác với những năm khác, tấm nào ít nhiều tôi cũng thích. Nhưng không thể chọn đủ cho mười hai tháng, vẫn đang còn thiếu một tờ.'''\n",
    "\n",
    "for i in ['.',',',':','?','(',')','-','!','\"\"']:\n",
    "    vanban = vanban.replace(i,'')\n",
    "vanban = vanban.split()\n",
    "\n",
    "D = {}\n",
    "i = 0\n",
    "while True:\n",
    "    key = list[i]\n",
    "    i += 1\n",
    "    if key in D:\n",
    "        D[key] += 1\n",
    "    else:\n",
    "        D[key] = 1\n",
    "        \n",
    "print(D)\n"
   ]
  },
  {
   "cell_type": "markdown",
   "id": "57c6f1e7",
   "metadata": {},
   "source": [
    "Viết chương trình cho phép người dùng quản lý sản phẩm, gồm các chức năng sau: \n",
    "\n",
    "- Hiển thị danh sách sản phẩm\n",
    "- Thêm sản phẩm mới vào danh sách\n",
    "- Sửa tên của sản phẩm trong danh sách\n",
    "- Xoá một sản phẩm khỏi danh sách"
   ]
  },
  {
   "cell_type": "code",
   "execution_count": null,
   "id": "8541b8c3",
   "metadata": {},
   "outputs": [],
   "source": []
  }
 ],
 "metadata": {
  "kernelspec": {
   "display_name": "Python 3 (ipykernel)",
   "language": "python",
   "name": "python3"
  },
  "language_info": {
   "codemirror_mode": {
    "name": "ipython",
    "version": 3
   },
   "file_extension": ".py",
   "mimetype": "text/x-python",
   "name": "python",
   "nbconvert_exporter": "python",
   "pygments_lexer": "ipython3",
   "version": "3.10.4"
  }
 },
 "nbformat": 4,
 "nbformat_minor": 5
}
