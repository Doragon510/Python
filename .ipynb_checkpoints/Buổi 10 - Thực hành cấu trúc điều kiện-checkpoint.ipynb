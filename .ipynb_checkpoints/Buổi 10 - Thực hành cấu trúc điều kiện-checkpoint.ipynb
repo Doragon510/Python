{
 "cells": [
  {
   "cell_type": "markdown",
   "id": "dcdb816e",
   "metadata": {},
   "source": [
    "# Thực hành cấu trúc điều khiển\n",
    "\n",
    "### Bài 1\n",
    "\n",
    "Cho phương trình bậc 2: ax^2 + bx + c = 0\n",
    "\n",
    "Nhập a, b, c\n",
    "\n",
    "Giải và biện luận phương trình trên"
   ]
  },
  {
   "cell_type": "code",
   "execution_count": 3,
   "id": "b5a5c325",
   "metadata": {},
   "outputs": [
    {
     "name": "stdout",
     "output_type": "stream",
     "text": [
      "Nhập a:4\n",
      "Nhập b:3\n",
      "Nhập c:2\n",
      "Phương trình vô nghiệm\n"
     ]
    }
   ],
   "source": [
    "a = int(input('Nhập a:'))\n",
    "b = int(input('Nhập b:'))\n",
    "c = int(input('Nhập c:'))\n",
    "x = 0\n",
    "x1 = 0\n",
    "x2 = 0\n",
    "if a == 0:\n",
    "    if b == 0:\n",
    "        if c == 0:\n",
    "            print('Phương trình có vô số nghiệm')\n",
    "        else:\n",
    "            print('Phương trình vô nghiệm')\n",
    "    else:\n",
    "        x = -c/b\n",
    "        print('Phương trình có 1 nghiệm là',x)\n",
    "else:\n",
    "    d = b**2 - 4*a*c\n",
    "    if d < 0:\n",
    "        print('Phương trình vô nghiệm')\n",
    "    elif d == 0:\n",
    "        x = -b/(2*a)\n",
    "        print('Phương trình có 1 nghiệm kép là:',x)\n",
    "    else:\n",
    "        x1 = (-b + d**0.5)/(2*a)\n",
    "        x2 = (-b - d**0.5)/(2*a)\n",
    "        print('Phương trình có 2 nghiệm là:',x1,'và',x2)"
   ]
  },
  {
   "cell_type": "markdown",
   "id": "6f7d329d",
   "metadata": {},
   "source": [
    "### Bài 2\n",
    "\n",
    "Hãy nhập vào một số\n",
    "\n",
    "Xác định coi đó có phải là số nguyên tố hay không"
   ]
  },
  {
   "cell_type": "code",
   "execution_count": 11,
   "id": "049c85f5",
   "metadata": {},
   "outputs": [
    {
     "name": "stdout",
     "output_type": "stream",
     "text": [
      "Nhập a:16\n",
      "16 không phải là số nguyên tố\n"
     ]
    }
   ],
   "source": [
    "a = int(input('Nhập a:'))\n",
    "k = 2\n",
    "b = 1\n",
    "for i in range(a-2):\n",
    "    if a%k == 0:\n",
    "        b *= a%k\n",
    "    k += 1\n",
    "if b != 0:\n",
    "    print(a,'là số nguyên tố')\n",
    "else:\n",
    "    print(a,'không phải là số nguyên tố')"
   ]
  },
  {
   "cell_type": "markdown",
   "id": "75f7717b",
   "metadata": {},
   "source": [
    "### Bài 3\n",
    "\n",
    "Hãy nhập vào số n\n",
    "\n",
    "Hãy đếm số chữ số 0 tận cùng của n giai thừa\n",
    "\n",
    "(Bài này nâng cao, mọi người có thể bỏ qua)"
   ]
  },
  {
   "cell_type": "code",
   "execution_count": null,
   "id": "789e0e76",
   "metadata": {},
   "outputs": [],
   "source": []
  },
  {
   "cell_type": "markdown",
   "id": "29cd6c81",
   "metadata": {},
   "source": [
    "### Bài 4\n",
    "\n",
    "In ra tất cả các số chia hết cho 3 nhỏ hơn 100"
   ]
  },
  {
   "cell_type": "code",
   "execution_count": 3,
   "id": "0b848981",
   "metadata": {},
   "outputs": [
    {
     "name": "stdout",
     "output_type": "stream",
     "text": [
      "3\n",
      "6\n",
      "9\n",
      "12\n",
      "15\n",
      "18\n",
      "21\n",
      "24\n",
      "27\n",
      "30\n",
      "33\n",
      "36\n",
      "39\n",
      "42\n",
      "45\n",
      "48\n",
      "51\n",
      "54\n",
      "57\n",
      "60\n",
      "63\n",
      "66\n",
      "69\n",
      "72\n",
      "75\n",
      "78\n",
      "81\n",
      "84\n",
      "87\n",
      "90\n",
      "93\n",
      "96\n",
      "99\n"
     ]
    }
   ],
   "source": [
    "a = 1\n",
    "for i in range(100):\n",
    "    if a%3 == 0:\n",
    "        print(a)\n",
    "    a += 1"
   ]
  },
  {
   "cell_type": "markdown",
   "id": "04dbf99b",
   "metadata": {},
   "source": [
    "### Bài 5\n",
    "\n",
    "In ra tất cả các số lẻ nhưng không chia hết cho 3 nhỏ hơn 100"
   ]
  },
  {
   "cell_type": "code",
   "execution_count": 5,
   "id": "769eb439",
   "metadata": {},
   "outputs": [
    {
     "name": "stdout",
     "output_type": "stream",
     "text": [
      "1\n",
      "5\n",
      "7\n",
      "11\n",
      "13\n",
      "17\n",
      "19\n",
      "23\n",
      "25\n",
      "29\n",
      "31\n",
      "35\n",
      "37\n",
      "41\n",
      "43\n",
      "47\n",
      "49\n",
      "53\n",
      "55\n",
      "59\n",
      "61\n",
      "65\n",
      "67\n",
      "71\n",
      "73\n",
      "77\n",
      "79\n",
      "83\n",
      "85\n",
      "89\n",
      "91\n",
      "95\n",
      "97\n"
     ]
    }
   ],
   "source": [
    "a = 1\n",
    "for i in range(50):\n",
    "    if a%3 != 0:\n",
    "        print(a)\n",
    "    a += 2"
   ]
  },
  {
   "cell_type": "markdown",
   "id": "26dd47fb",
   "metadata": {},
   "source": [
    "### Bài 5\n",
    "\n",
    "Tại một cửa hàng nọ có menu như sau:\n",
    "\n",
    "1. Gà rán giá 35k\n",
    "2. Hamburger giá 50k\n",
    "3. Pesi giá 10k\n",
    "\n",
    "Nhập số lượng món hàng cần mua\n",
    "\n",
    "Tính và in ra tổng giá tiền (hiển thị có dấu chấm mỗi 3 chữ số để người dùng để quan sát)\n",
    "\n",
    "Nếu giá trị đơn hàng trên 2 triệu, giảm 10% cho khách, trên 4 triệu, giảm 15%\n",
    "\n",
    "Tính và in ra tổng giá tiền được giảm (hiển thị có dấu chấm mỗi 3 chữ số để người dùng để quan sát)\n",
    "\n",
    "Tính và in ra tổng giá tiền khách cần trả (hiển thị có dấu chấm mỗi 3 chữ số để người dùng để quan sát)\n",
    "\n",
    "In ra dòng chữ \"Cảm ơn quý khách đã mua hàng\""
   ]
  },
  {
   "cell_type": "code",
   "execution_count": 2,
   "id": "8509df1e",
   "metadata": {},
   "outputs": [
    {
     "name": "stdout",
     "output_type": "stream",
     "text": [
      "Nhập số lượng gà rán:15\n",
      "Nhập số lượng hamburger:20\n",
      "Nhập số lượng pepsi:30\n",
      "Tổng giá tiền cần thanh toán: 825000\n",
      "Cảm ơn quý khách đã mua hàng\n"
     ]
    }
   ],
   "source": [
    "a = int(input('Nhập số lượng gà rán:'))\n",
    "b = int(input('Nhập số lượng hamburger:'))\n",
    "c = int(input('Nhập số lượng pepsi:'))\n",
    "t = a*35000 + b*50000 + c*10000\n",
    "g = 0\n",
    "if t > 2*10**6:\n",
    "    g = int(t*0.1)\n",
    "    print('Tổng tiền được giảm:',g)\n",
    "    t = int(t*0.9)\n",
    "elif t > 4*10**6:\n",
    "    g = int(t*0.15)\n",
    "    print('Tổng tiền được giảm:',g)\n",
    "    t = int(t*0.85)\n",
    "\n",
    "t_in = \"\"\n",
    "t = str(t)\n",
    "k = -1\n",
    "for i in range(len(t)//3):\n",
    "    t_in += (t[k] + t[k-1] + t[k-2] + \".\")\n",
    "    k -= 3\n",
    "    \n",
    "t_in = t_in[::-1]    \n",
    "if t_in[0] == \".\":\n",
    "    t_in = t_in[1:]\n",
    "\n",
    "print('Tổng giá tiền cần thanh toán:',t_in)\n",
    "print('Cảm ơn quý khách đã mua hàng')"
   ]
  },
  {
   "cell_type": "code",
   "execution_count": 5,
   "id": "cd0e754b",
   "metadata": {},
   "outputs": [
    {
     "name": "stdout",
     "output_type": "stream",
     "text": [
      "Tổng giá tiền cần thanh toán: 600.000\n",
      "Cảm ơn quý khách đã mua hàng\n"
     ]
    }
   ],
   "source": [
    "t = 600000\n",
    "t_in = \"\"\n",
    "t = str(t)\n",
    "k = -1\n",
    "for i in range(len(t)//3):\n",
    "    t_in += (t[k] + t[k-1] + t[k-2] + \".\")\n",
    "    k -= 3\n",
    "    \n",
    "t_in = t_in[::-1]    \n",
    "if t_in[0] == \".\":\n",
    "    t_in = t_in[1:]\n",
    "print('Tổng giá tiền cần thanh toán:',t_in)\n",
    "print('Cảm ơn quý khách đã mua hàng')"
   ]
  },
  {
   "cell_type": "markdown",
   "id": "ab10a1ce",
   "metadata": {},
   "source": [
    "### Bài 6\n",
    "\n",
    "Nhập vào chiều cao (cm) và cân nặng (kg), tính số BMI và xét rồi xin kết quả theo dữ liệu sau:\n",
    "\n",
    "- BMI < 16: Gầy cấp độ III\n",
    "- 16 <= BMI < 17:  Gầy cấp độ II\n",
    "- 17<= BMI < 18.5: Gầy cấp độ I\n",
    "- 18.5 <= BMI < 25: Bình thường\n",
    "- 25 <= BMI < 30: Thừa cân\n",
    "- 30 <= BMI < 35 : Béo phì cấp độ I\n",
    "- 35 <= BMI < 40: Béo phì cấp độ II\n",
    "- BMI > 40: Béo phì cấp độ III"
   ]
  },
  {
   "cell_type": "code",
   "execution_count": 14,
   "id": "1058f441",
   "metadata": {},
   "outputs": [
    {
     "name": "stdout",
     "output_type": "stream",
     "text": [
      "Nhập chiều cao:1.58\n",
      "Nhập cân nặng:48\n",
      "15.189873417721518\n",
      "Gầy cấp độ III\n"
     ]
    }
   ],
   "source": [
    "h = float(input('Nhập chiều cao:'))\n",
    "g = float(input('Nhập cân nặng:'))\n",
    "BMI = g / (2*h)\n",
    "print(BMI)\n",
    "if BMI < 16:\n",
    "    print('Gầy cấp độ III')\n",
    "elif BMI < 17:\n",
    "    print('Gầy cấp độ II')\n",
    "elif BMI < 18.5:\n",
    "    print('Gầy cấp độ I')\n",
    "elif BMI < 25:\n",
    "    print('Bình thường')\n",
    "elif BMI < 30:\n",
    "    print('Thừa cân')\n",
    "elif BMI < 35:\n",
    "    print('Béo phì cấp độ I')\n",
    "elif BMI < 40:\n",
    "    print('Béo phì cấp độ II')\n",
    "else:\n",
    "    print('Béo phì cấp độ III')\n"
   ]
  },
  {
   "cell_type": "markdown",
   "id": "f7620342",
   "metadata": {},
   "source": [
    "### Bài 7\n",
    "\n",
    "Nhập ngày, tháng, năm. Hãy tính và in ra màn hình kể từ đầu năm đến ngày vừa nhập là bao nhiêu ngày."
   ]
  },
  {
   "cell_type": "code",
   "execution_count": 20,
   "id": "4c57f0a5",
   "metadata": {},
   "outputs": [
    {
     "name": "stdout",
     "output_type": "stream",
     "text": [
      "Nhập ngày:5\n",
      "Nhập tháng:10\n",
      "Nhập năm:1996\n",
      "Số ngày: 279\n"
     ]
    }
   ],
   "source": [
    "d = int(input('Nhập ngày:'))\n",
    "m = int(input('Nhập tháng:'))\n",
    "y = int(input('Nhập năm:'))\n",
    "a = 0\n",
    "## các tháng thiếu trong năm sẽ là 2, 4, 6, 9, 11\n",
    "## nếu năm nhuận thì tháng 2 thiếu 2 ngày, không thì là 3 ngày\n",
    "if (y%400 == 0) or (y%4 == 0 and a%100 != 0):\n",
    "    if m < 3:\n",
    "        a = 31*(m-1) + d\n",
    "    elif m < 5:\n",
    "        a = 31*(m-1) - 2 + d\n",
    "    elif m < 7:\n",
    "        a = 31*(m-1) - 3 + d\n",
    "    elif m < 10:\n",
    "        a = 31*(m-1) - 4 + d\n",
    "    elif m < 12:\n",
    "        a = 31*(m-1) - 5 + d\n",
    "    else:\n",
    "        a = 31*(m-1) - 6 + d \n",
    "else:\n",
    "    if m < 3:\n",
    "        a = 31*(m-1) + d\n",
    "    elif m < 5:\n",
    "        a = 31*(m-1) - 3 + d\n",
    "    elif m < 7:\n",
    "        a = 31*(m-1) - 4 + d\n",
    "    elif m < 10:\n",
    "        a = 31*(m-1) - 5 + d\n",
    "    elif m < 12:\n",
    "        a = 31*(m-1) - 6 + d\n",
    "    else:\n",
    "        a = 31*(m-1) - 7 + d \n",
    "        \n",
    "print('Số ngày:',a)"
   ]
  },
  {
   "cell_type": "code",
   "execution_count": 24,
   "id": "212b8002",
   "metadata": {},
   "outputs": [
    {
     "name": "stdout",
     "output_type": "stream",
     "text": [
      "Nhập ngày:5\n",
      "Nhập tháng:10\n",
      "Nhập năm:1995\n",
      "Số ngày: 278\n"
     ]
    }
   ],
   "source": [
    "d = int(input('Nhập ngày:'))\n",
    "m = int(input('Nhập tháng:'))\n",
    "y = int(input('Nhập năm:'))\n",
    "a = 0\n",
    "k = 1\n",
    "## các tháng thiếu trong năm sẽ là 2, 4, 6, 9, 11\n",
    "## nếu năm nhuận thì tháng 2 thiếu 2 ngày, không thì là 3 ngày\n",
    "if (y%400 == 0) or (y%4 == 0 and a%100 != 0):\n",
    "    for i in range(m-1):\n",
    "        if k == 2:\n",
    "            a += 29\n",
    "        elif k == 4 or k ==6 or k == 9 or k == 11:\n",
    "            a += 30\n",
    "        else:\n",
    "            a += 31\n",
    "        k += 1\n",
    "    a += d\n",
    "else:\n",
    "    for i in range(m-1):\n",
    "        if k == 2:\n",
    "            a += 28\n",
    "        elif k == 4 or k ==6 or k == 9 or k == 11:\n",
    "            a += 30\n",
    "        else:\n",
    "            a += 31\n",
    "        k += 1\n",
    "    a += d\n",
    "\n",
    "print('Số ngày:',a)"
   ]
  }
 ],
 "metadata": {
  "kernelspec": {
   "display_name": "Python 3 (ipykernel)",
   "language": "python",
   "name": "python3"
  },
  "language_info": {
   "codemirror_mode": {
    "name": "ipython",
    "version": 3
   },
   "file_extension": ".py",
   "mimetype": "text/x-python",
   "name": "python",
   "nbconvert_exporter": "python",
   "pygments_lexer": "ipython3",
   "version": "3.10.4"
  }
 },
 "nbformat": 4,
 "nbformat_minor": 5
}
