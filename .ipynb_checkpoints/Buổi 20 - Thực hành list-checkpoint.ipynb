{
 "cells": [
  {
   "cell_type": "markdown",
   "id": "011431b9",
   "metadata": {},
   "source": [
    "# Thực hành List\n",
    "\n",
    "##### Chú ý: list một dãy số người ta còn gọi là một mảng\n",
    "\n",
    "### Bài 1"
   ]
  },
  {
   "cell_type": "markdown",
   "id": "61a90628",
   "metadata": {},
   "source": [
    "Viết hàm với đầu vào là một mảng, hãy tính và trả về giá trị trung bình của mảng"
   ]
  },
  {
   "cell_type": "code",
   "execution_count": 3,
   "id": "bcc197d5",
   "metadata": {},
   "outputs": [
    {
     "name": "stdout",
     "output_type": "stream",
     "text": [
      "Nhập số lượng số trong mảng: 5\n",
      "Nhập số thứ 1 trong mảng:4\n",
      "Nhập số thứ 2 trong mảng:6\n",
      "Nhập số thứ 3 trong mảng:2\n",
      "Nhập số thứ 4 trong mảng:6\n",
      "Nhập số thứ 5 trong mảng:-1\n",
      "Giá trị trung bình của mảng là: 3.4\n"
     ]
    }
   ],
   "source": [
    "N = int(input('Nhập số lượng số trong mảng: '))\n",
    "list = []\n",
    "for i in range(N):\n",
    "    a = int(input('Nhập số thứ ' + str(i+1) + \" trong mảng:\"))\n",
    "    list.append(a)\n",
    "\n",
    "def tb(list):\n",
    "    S = 0\n",
    "    for i in list:\n",
    "        S += i\n",
    "    return S/len(list)\n",
    "print('Giá trị trung bình của mảng là:',tb(list))"
   ]
  },
  {
   "cell_type": "markdown",
   "id": "30d26c1b",
   "metadata": {},
   "source": [
    "### Bài 2"
   ]
  },
  {
   "cell_type": "markdown",
   "id": "674ef26c",
   "metadata": {},
   "source": [
    "Viết hàm với đầu vào là một mảng, hãy tìm và trả về giá trị âm lớn nhất trong mảng"
   ]
  },
  {
   "cell_type": "code",
   "execution_count": 9,
   "id": "1a9cb505",
   "metadata": {},
   "outputs": [
    {
     "name": "stdout",
     "output_type": "stream",
     "text": [
      "Nhập số lượng số trong mảng: 5\n",
      "Nhập số thứ 1 trong mảng:2\n",
      "Nhập số thứ 2 trong mảng:4\n",
      "Nhập số thứ 3 trong mảng:5\n",
      "Nhập số thứ 4 trong mảng:6\n",
      "Nhập số thứ 5 trong mảng:2\n"
     ]
    },
    {
     "ename": "TypeError",
     "evalue": "'int' object is not iterable",
     "output_type": "error",
     "traceback": [
      "\u001b[1;31m---------------------------------------------------------------------------\u001b[0m",
      "\u001b[1;31mTypeError\u001b[0m                                 Traceback (most recent call last)",
      "Input \u001b[1;32mIn [9]\u001b[0m, in \u001b[0;36m<cell line: 20>\u001b[1;34m()\u001b[0m\n\u001b[0;32m     17\u001b[0m             \u001b[38;5;28mmax\u001b[39m \u001b[38;5;241m=\u001b[39m i\n\u001b[0;32m     18\u001b[0m     \u001b[38;5;28;01mreturn\u001b[39;00m \u001b[38;5;28mmax\u001b[39m\n\u001b[1;32m---> 20\u001b[0m \u001b[38;5;28mprint\u001b[39m(\u001b[43mgta\u001b[49m\u001b[43m(\u001b[49m\u001b[38;5;28;43mlist\u001b[39;49m\u001b[43m)\u001b[49m)\n",
      "Input \u001b[1;32mIn [9]\u001b[0m, in \u001b[0;36mgta\u001b[1;34m(list)\u001b[0m\n\u001b[0;32m      7\u001b[0m \u001b[38;5;28;01mdef\u001b[39;00m \u001b[38;5;21mgta\u001b[39m(\u001b[38;5;28mlist\u001b[39m):\n\u001b[0;32m      8\u001b[0m     l \u001b[38;5;241m=\u001b[39m \u001b[38;5;28mlen\u001b[39m(\u001b[38;5;28mlist\u001b[39m)\n\u001b[1;32m----> 9\u001b[0m     \u001b[38;5;28;01mfor\u001b[39;00m i \u001b[38;5;129;01min\u001b[39;00m l:\n\u001b[0;32m     10\u001b[0m         \u001b[38;5;28;01mif\u001b[39;00m \u001b[38;5;28mlist\u001b[39m[i] \u001b[38;5;241m>\u001b[39m \u001b[38;5;241m0\u001b[39m:\n\u001b[0;32m     11\u001b[0m             \u001b[38;5;28mlist\u001b[39m\u001b[38;5;241m.\u001b[39mremove(\u001b[38;5;28mlist\u001b[39m[i])\n",
      "\u001b[1;31mTypeError\u001b[0m: 'int' object is not iterable"
     ]
    }
   ],
   "source": [
    "N = int(input('Nhập số lượng số trong mảng: '))\n",
    "list = []\n",
    "for i in range(N):\n",
    "    a = int(input('Nhập số thứ ' + str(i+1) + \" trong mảng:\"))\n",
    "    list.append(a)\n",
    "    \n",
    "def gta(list):\n",
    "    l = len(list)\n",
    "    for i in range(l):\n",
    "        if list[i] > 0:\n",
    "            list.remove(list[i])\n",
    "    if list == []:\n",
    "        return none\n",
    "    for i in list:\n",
    "        max = list[0]\n",
    "        if i > max:\n",
    "            max = i\n",
    "    return max\n",
    "\n",
    "print(gta(list))"
   ]
  },
  {
   "cell_type": "markdown",
   "id": "95cfaa74",
   "metadata": {},
   "source": [
    "### Bài 3"
   ]
  },
  {
   "cell_type": "markdown",
   "id": "5361a4b8",
   "metadata": {},
   "source": [
    "Viết hàm với giá trị đầu vào là một mảng, hãy sắp xếp và trả về mảng có độ lớn tăng dần"
   ]
  },
  {
   "cell_type": "code",
   "execution_count": 14,
   "id": "a3ce1f24",
   "metadata": {},
   "outputs": [
    {
     "name": "stdout",
     "output_type": "stream",
     "text": [
      "Nhập số lượng phần tử trong mảng: 6\n",
      "Nhập phẩn tử thứ 1 trong mảng:4\n",
      "Nhập phẩn tử thứ 2 trong mảng:7\n",
      "Nhập phẩn tử thứ 3 trong mảng:9\n",
      "Nhập phẩn tử thứ 4 trong mảng:2\n",
      "Nhập phẩn tử thứ 5 trong mảng:4\n",
      "Nhập phẩn tử thứ 6 trong mảng:6\n",
      "[2, 4, 4, 6, 7, 9]\n"
     ]
    }
   ],
   "source": [
    "N = int(input('Nhập số lượng phần tử trong mảng: '))\n",
    "list = []\n",
    "for i in range(N):\n",
    "    a = int(input('Nhập phẩn tử thứ ' + str(i+1) + \" trong mảng:\"))\n",
    "    list.append(a)\n",
    "    \n",
    "def sx(list):\n",
    "    for i in range(len(list)-1):\n",
    "        for j in range(i+1,len(list)):\n",
    "            if list[i] > list[j]:\n",
    "                list[i], list[j] = list[j], list[i]\n",
    "    return list\n",
    "\n",
    "print(sx(list))\n",
    "            "
   ]
  },
  {
   "cell_type": "markdown",
   "id": "025cc0cb",
   "metadata": {},
   "source": [
    "### Bài 4"
   ]
  },
  {
   "cell_type": "markdown",
   "id": "dbf885a9",
   "metadata": {},
   "source": [
    "Viết hàm với giá trị đầu vào là một mảng, tìm x sao cho đoạn [-x,x] chứa tất cả các giá trị có trong mảng"
   ]
  },
  {
   "cell_type": "code",
   "execution_count": 15,
   "id": "84606ea2",
   "metadata": {},
   "outputs": [
    {
     "name": "stdout",
     "output_type": "stream",
     "text": [
      "Nhập số lượng phần tử trong mảng: 6\n",
      "Nhập phẩn tử thứ 1 trong mảng:4\n",
      "Nhập phẩn tử thứ 2 trong mảng:7\n",
      "Nhập phẩn tử thứ 3 trong mảng:-1\n",
      "Nhập phẩn tử thứ 4 trong mảng:4\n",
      "Nhập phẩn tử thứ 5 trong mảng:-7\n",
      "Nhập phẩn tử thứ 6 trong mảng:4\n",
      "(-7, 7)\n"
     ]
    }
   ],
   "source": [
    "N = int(input('Nhập số lượng phần tử trong mảng: '))\n",
    "L = []\n",
    "for i in range(N):\n",
    "    a = int(input('Nhập phẩn tử thứ ' + str(i+1) + \" trong mảng:\"))\n",
    "    L.append(a)\n",
    "    \n",
    "def timx(L):\n",
    "    max = L[0]\n",
    "    min = L[0]\n",
    "    for i in L:\n",
    "        if max < i:\n",
    "            max = i\n",
    "        if min > i:\n",
    "            min = i\n",
    "    if abs(max) < abs(min):\n",
    "        max = -min\n",
    "    else:\n",
    "        min = -max\n",
    "    return min, max\n",
    "\n",
    "print(timx(L))\n",
    "    "
   ]
  },
  {
   "cell_type": "markdown",
   "id": "98aa10b5",
   "metadata": {},
   "source": [
    "### Bài 5"
   ]
  },
  {
   "cell_type": "markdown",
   "id": "a7fe3092",
   "metadata": {},
   "source": [
    "Viết hàm với giá trị đầu vào là một mảng, Hãy tìm một vị trí trong mảng thỏa hai điền kiện: có hai giá trị lân cận và giá trị tại vị trí đó bằng tích hai giá trị lân cận. Nếu mảng không tồn tại giá trị như vậy thì hàm trả về giá trị - 1"
   ]
  },
  {
   "cell_type": "code",
   "execution_count": 18,
   "id": "9d55cb01",
   "metadata": {},
   "outputs": [
    {
     "name": "stdout",
     "output_type": "stream",
     "text": [
      "Nhập số lượng phần tử trong mảng: 5\n",
      "Nhập phẩn tử thứ 1 trong mảng:4\n",
      "Nhập phẩn tử thứ 2 trong mảng:5\n",
      "Nhập phẩn tử thứ 3 trong mảng:6\n",
      "Nhập phẩn tử thứ 4 trong mảng:7\n",
      "Nhập phẩn tử thứ 5 trong mảng:8\n",
      "-1\n"
     ]
    }
   ],
   "source": [
    "N = int(input('Nhập số lượng phần tử trong mảng: '))\n",
    "L = []\n",
    "for i in range(N):\n",
    "    a = int(input('Nhập phẩn tử thứ ' + str(i+1) + \" trong mảng: \"))\n",
    "    L.append(a)\n",
    "    \n",
    "def timx(L):\n",
    "    for i in range(1,len(L)-1):\n",
    "        if L[i] == L[i-1]*L[i+1]:\n",
    "            return i + 1\n",
    "    return -1\n",
    "\n",
    "print(timx(L))"
   ]
  },
  {
   "cell_type": "markdown",
   "id": "035325d7",
   "metadata": {},
   "source": [
    "### Bài 6"
   ]
  },
  {
   "cell_type": "markdown",
   "id": "e2d35127",
   "metadata": {},
   "source": [
    "Viết hàm có giá trị đầu vào là một mảng. Hãy tìm giá trị đầu tiên trong mảng một chiều các số nguyên có chữ sốđầu tiên là chữ số lẻ. Nếu trong mảng không tồn tại giá trị như vậy thì hàm sẽ trả về giá trị 0."
   ]
  },
  {
   "cell_type": "code",
   "execution_count": 21,
   "id": "b8a8b8a2",
   "metadata": {},
   "outputs": [
    {
     "name": "stdout",
     "output_type": "stream",
     "text": [
      "Nhập số lượng phần tử trong mảng: 5\n",
      "Nhập phẩn tử thứ 1 trong mảng: 8\n",
      "Nhập phẩn tử thứ 2 trong mảng: 6\n",
      "Nhập phẩn tử thứ 3 trong mảng: 101\n",
      "Nhập phẩn tử thứ 4 trong mảng: 5\n",
      "Nhập phẩn tử thứ 5 trong mảng: 2\n",
      "101\n"
     ]
    }
   ],
   "source": [
    "N = int(input('Nhập số lượng phần tử trong mảng: '))\n",
    "L = []\n",
    "for i in range(N):\n",
    "    a = int(input('Nhập phẩn tử thứ ' + str(i+1) + \" trong mảng: \"))\n",
    "    L.append(a)\n",
    "    \n",
    "def timx(L):\n",
    "    for i in L:\n",
    "        a = i\n",
    "        while a >= 10:\n",
    "            a = a // 10\n",
    "        if a%2 == 1:\n",
    "            return i\n",
    "    return 0\n",
    "\n",
    "print(timx(L))"
   ]
  },
  {
   "cell_type": "markdown",
   "id": "da270d1a",
   "metadata": {},
   "source": [
    "### Bài 7"
   ]
  },
  {
   "cell_type": "markdown",
   "id": "079fdafe",
   "metadata": {},
   "source": [
    "Viết hàm có giá trị đầu vào là một mảng. Hãy tìm giá trị đầu tiên trong mảng có dạng 2^k. Nếu mảng không tồn tại giá trị dạng 2^k thì hàm sẽ trả về giá trị 0."
   ]
  },
  {
   "cell_type": "code",
   "execution_count": 2,
   "id": "f9311f33",
   "metadata": {},
   "outputs": [
    {
     "name": "stdout",
     "output_type": "stream",
     "text": [
      "Nhập số lượng phần tử trong mảng: 5\n",
      "Nhập phẩn tử thứ 1 trong mảng: 7\n",
      "Nhập phẩn tử thứ 2 trong mảng: 6\n",
      "Nhập phẩn tử thứ 3 trong mảng: 8\n",
      "Nhập phẩn tử thứ 4 trong mảng: 9\n",
      "Nhập phẩn tử thứ 5 trong mảng: 4\n",
      "8\n"
     ]
    }
   ],
   "source": [
    "N = int(input('Nhập số lượng phần tử trong mảng: '))\n",
    "L = []\n",
    "for i in range(N):\n",
    "    a = int(input('Nhập phẩn tử thứ ' + str(i+1) + \" trong mảng: \"))\n",
    "    L.append(a)\n",
    "    \n",
    "def timx(L):\n",
    "    for i in L:\n",
    "        k = 0\n",
    "        while i > 2**k:\n",
    "            k += 1\n",
    "        if i == 2**k:\n",
    "            return i\n",
    "    return 0\n",
    "\n",
    "print(timx(L))"
   ]
  },
  {
   "cell_type": "markdown",
   "id": "80c8ab17",
   "metadata": {},
   "source": [
    "### Bài 8"
   ]
  },
  {
   "cell_type": "markdown",
   "id": "47c3a2e2",
   "metadata": {},
   "source": [
    "Viết hàm có giá trị đầu vào là một mảng. Hãy tìm giá trị thỏa điều kiện toàn chữ số lẻ và là giá trị lớn nhất thỏa điều kiện ấy trong mảng (nếu mảng không có giá trị thỏa điều kiện trên thì hàm trả về giá trị 0)"
   ]
  },
  {
   "cell_type": "code",
   "execution_count": 10,
   "id": "f8740d98",
   "metadata": {},
   "outputs": [
    {
     "name": "stdout",
     "output_type": "stream",
     "text": [
      "Nhập số lượng phần tử trong mảng: 5\n",
      "Nhập phẩn tử thứ 1 trong mảng: 16\n",
      "Nhập phẩn tử thứ 2 trong mảng: 17\n",
      "Nhập phẩn tử thứ 3 trong mảng: 15\n",
      "Nhập phẩn tử thứ 4 trong mảng: 24\n",
      "Nhập phẩn tử thứ 5 trong mảng: 19\n",
      "19\n"
     ]
    }
   ],
   "source": [
    "N = int(input('Nhập số lượng phần tử trong mảng: '))\n",
    "L = []\n",
    "for i in range(N):\n",
    "    a = int(input('Nhập phẩn tử thứ ' + str(i+1) + \" trong mảng: \"))\n",
    "    L.append(a)\n",
    "\n",
    "def timx(L):\n",
    "    x = 0\n",
    "    for i in L:\n",
    "        for j in str(i):\n",
    "            check = True\n",
    "            if int(j)%2 == 0:\n",
    "                check = False\n",
    "                break\n",
    "        if i > x and check == True:\n",
    "            x = i\n",
    "        else: check == True\n",
    "    return x\n",
    "\n",
    "print(timx(L))"
   ]
  },
  {
   "cell_type": "markdown",
   "id": "8a09bf26",
   "metadata": {},
   "source": [
    "### Bài 9"
   ]
  },
  {
   "cell_type": "markdown",
   "id": "09f9a4c6",
   "metadata": {},
   "source": [
    "Trong kỳ thi học sinh giỏi môn Tin học, một học sinh là người đạt giải đặc biệt. Ban tổ chức cho phép học sinh đó chọn các phần thưởng cho mình.\n",
    "\n",
    "Các phần thưởng xếp thành một dãy được đánh số từ 1 đến N (0 ≤ N ≤ 10000), phần thưởng thứ i có giá trị là Ai (1 ≤ Ai ≤ 100).\n",
    "\n",
    "Học sinh được phép chọn các phần thưởng cho mình theo nguyên tắc không chọn 3 phần thưởng liên tiếp nhau trong dãy.\n",
    "\n",
    "Viết chương trình để máy tính hướng dẫn học sinh đó chọn các phần thưởng sao cho tổng giá trị của các phần thưởng nhận được là lớn nhất.\n",
    "\n",
    "Nhập vào N, sau đó nhập n lần các giá trị Ai\n",
    "\n",
    "In ra giá trị lớn nhất học sinh được chọn, và các vị trí mà học sinh cần chọn để đạt được giá trị lớn nhất"
   ]
  },
  {
   "cell_type": "code",
   "execution_count": null,
   "id": "c350a1e9",
   "metadata": {},
   "outputs": [],
   "source": []
  }
 ],
 "metadata": {
  "kernelspec": {
   "display_name": "Python 3 (ipykernel)",
   "language": "python",
   "name": "python3"
  },
  "language_info": {
   "codemirror_mode": {
    "name": "ipython",
    "version": 3
   },
   "file_extension": ".py",
   "mimetype": "text/x-python",
   "name": "python",
   "nbconvert_exporter": "python",
   "pygments_lexer": "ipython3",
   "version": "3.10.4"
  }
 },
 "nbformat": 4,
 "nbformat_minor": 5
}
