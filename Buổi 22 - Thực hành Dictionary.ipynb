{
 "cells": [
  {
   "cell_type": "markdown",
   "id": "636d6b20",
   "metadata": {},
   "source": [
    "# Thực hành Dictionary"
   ]
  },
  {
   "cell_type": "markdown",
   "id": "4a1577c4",
   "metadata": {},
   "source": [
    "### Bài 1"
   ]
  },
  {
   "cell_type": "markdown",
   "id": "57583ad7",
   "metadata": {},
   "source": [
    "Cho list a và list b là 2 dãy số bất kỳ\n",
    "\n",
    "Hãy tìm những phần tử trong 2 list trùng nhau và in toàn bộ ra màn hình\n",
    "\n",
    "Ví dụ:\n",
    "\n",
    "a = [2,4,5,7,9]\n",
    "\n",
    "b = [2,5,10,12,45,65]\n",
    "\n",
    "in ra: 2, 5"
   ]
  },
  {
   "cell_type": "markdown",
   "id": "3bf52ad2",
   "metadata": {},
   "source": [
    "#### Khai báo list"
   ]
  },
  {
   "cell_type": "code",
   "execution_count": null,
   "id": "1b0c4bea",
   "metadata": {},
   "outputs": [],
   "source": [
    "Na = int(input('Nhập số lượng số trong list a: '))\n",
    "a = []\n",
    "for i in range(Na):\n",
    "    pta = int(input('Nhập số thứ ' + str(i+1) + \" trong list a: \"))\n",
    "    a.append(pta)\n",
    "    \n",
    "Nb = int(input('Nhập số lượng số trong list b: '))\n",
    "b = []\n",
    "for i in range(Nb):\n",
    "    ptb = int(input('Nhập số thứ ' + str(i+1) + \" trong list b: \"))\n",
    "    b.append(ptb)"
   ]
  },
  {
   "cell_type": "markdown",
   "id": "f7b1767c",
   "metadata": {},
   "source": [
    "#### Code"
   ]
  },
  {
   "cell_type": "code",
   "execution_count": 7,
   "id": "8d0bc5c0",
   "metadata": {},
   "outputs": [
    {
     "name": "stdout",
     "output_type": "stream",
     "text": [
      "[2, 6, 2]\n"
     ]
    }
   ],
   "source": [
    "c = []\n",
    "for i in a:\n",
    "    if i in b:\n",
    "        c.append(i)\n",
    "print(c)\n",
    "a = [2,6,2,7,4,5]\n",
    "b = [6,8,2,8,2]"
   ]
  },
  {
   "cell_type": "markdown",
   "id": "2646ccba",
   "metadata": {},
   "source": [
    "### Bài 2"
   ]
  },
  {
   "cell_type": "markdown",
   "id": "6cc6dc38",
   "metadata": {},
   "source": [
    "Cho một dictonary có các giá trị là các số nguyên\n",
    "\n",
    "Hãy viết hàm tìm key có giá trị lớn nhất"
   ]
  },
  {
   "cell_type": "markdown",
   "id": "7b92f0ce",
   "metadata": {},
   "source": [
    "#### Khai báo dictionary"
   ]
  },
  {
   "cell_type": "code",
   "execution_count": 15,
   "id": "3ec8ec73",
   "metadata": {},
   "outputs": [
    {
     "name": "stdout",
     "output_type": "stream",
     "text": [
      "Nhập vào key: c\n",
      "Nhập vào value: 5\n",
      "Nhập vào key: \n",
      "{'c': 5}\n"
     ]
    }
   ],
   "source": [
    "D = {}\n",
    "while True:\n",
    "    key = input('Nhập vào key: ')\n",
    "    if key == \"\":\n",
    "        break\n",
    "    if key not in D:\n",
    "        value = int(input('Nhập vào value: '))\n",
    "        D[key] = value\n",
    "print(D)"
   ]
  },
  {
   "cell_type": "markdown",
   "id": "65018ab5",
   "metadata": {},
   "source": [
    "#### Code"
   ]
  },
  {
   "cell_type": "code",
   "execution_count": 14,
   "id": "e7a165eb",
   "metadata": {},
   "outputs": [
    {
     "name": "stdout",
     "output_type": "stream",
     "text": [
      "e\n"
     ]
    }
   ],
   "source": [
    "def timkeymax(D):\n",
    "    keymax = None\n",
    "    for key in D:\n",
    "        if keymax == None or D[keymax] < D[key]:\n",
    "            keymax = key\n",
    "    return keymax\n",
    "\n",
    "D = {'a': 7, 'b': 4, 'c': 9, 'd': 10, 'e': 16}\n",
    "print(timkeymax(D))"
   ]
  },
  {
   "cell_type": "markdown",
   "id": "c562bc84",
   "metadata": {},
   "source": [
    "### Bài 3"
   ]
  },
  {
   "cell_type": "markdown",
   "id": "945e8929",
   "metadata": {},
   "source": [
    "Cho một dictonary có các key đều là chuỗi\n",
    "\n",
    "Hãy viết hàm trả về giá trị của key có độ dài chuỗi là lớn nhất"
   ]
  },
  {
   "cell_type": "markdown",
   "id": "1855bc8c",
   "metadata": {},
   "source": [
    "#### Khai báo dictionary"
   ]
  },
  {
   "cell_type": "code",
   "execution_count": null,
   "id": "5ff9a0e5",
   "metadata": {},
   "outputs": [],
   "source": [
    "D = {}\n",
    "while True:\n",
    "    key = input('Nhập vào key: ')\n",
    "    if key == \"\":\n",
    "        break\n",
    "    if key not in D:\n",
    "        value = input('Nhập vào value: ')\n",
    "        D[key] = value\n",
    "print(D)"
   ]
  },
  {
   "cell_type": "markdown",
   "id": "21fae59d",
   "metadata": {},
   "source": [
    "#### Code"
   ]
  },
  {
   "cell_type": "code",
   "execution_count": 16,
   "id": "b3c2194d",
   "metadata": {},
   "outputs": [
    {
     "name": "stdout",
     "output_type": "stream",
     "text": [
      "book\n"
     ]
    }
   ],
   "source": [
    "def timkeydainhat(D):\n",
    "    keymax = ''\n",
    "    for key in D:\n",
    "        if keymax == '' or len(D[keymax]) < len(D[key]):\n",
    "            keymax = key\n",
    "    return keymax\n",
    "\n",
    "D = {'book':'Grimgar','game':'Genshin','job':'auditor','game':'LoL'}\n",
    "print(timkeydainhat(D))"
   ]
  },
  {
   "cell_type": "markdown",
   "id": "205c6ef4",
   "metadata": {},
   "source": [
    "### Bài 4"
   ]
  },
  {
   "cell_type": "markdown",
   "id": "bd7ee674",
   "metadata": {},
   "source": [
    "Cho một list là một tập các chuỗi\n",
    "\n",
    "Hãy mã hóa list trên theo nguyên tắc sau:\n",
    "\n",
    "Mỗi một phần tử, ta mã hóa thành những con số theo thứ tự tăng dần\n",
    "\n",
    "Ví dụ:\n",
    "\n",
    "List = [\"đen\",\"vàng\",\"xanh\",\"vàng\",\"xanh\",\"đỏ\",\"hồng\"]\n",
    "\n",
    "List mã hóa = [0,1,2,1,2,3,4]\n",
    "\n",
    "- \"đen\" mã hóa thành 0\n",
    "- \"vàng\" mã hóa thành 1\n",
    "- \"xanh\" mã hóa thành 2\n",
    "- \"đỏ\" mã hòa thánh 3\n",
    "- \"hồng\" mã hòa thành 4"
   ]
  },
  {
   "cell_type": "markdown",
   "id": "e7ed3048",
   "metadata": {},
   "source": [
    "#### Khai báo"
   ]
  },
  {
   "cell_type": "code",
   "execution_count": 18,
   "id": "7573ae07",
   "metadata": {},
   "outputs": [
    {
     "name": "stdout",
     "output_type": "stream",
     "text": [
      "Nhập giá trị trong list: đỏ\n",
      "Nhập giá trị trong list: hồng\n",
      "Nhập giá trị trong list: xanh\n",
      "Nhập giá trị trong list: vàng\n",
      "Nhập giá trị trong list: đen\n",
      "Nhập giá trị trong list: đen\n",
      "Nhập giá trị trong list:  \n",
      "Nhập giá trị trong list: \n",
      "['đỏ', 'hồng', 'xanh', 'vàng', 'đen', 'đen', ' ']\n"
     ]
    }
   ],
   "source": [
    "List = []\n",
    "while True:\n",
    "    value = input('Nhập giá trị trong list: ')\n",
    "    if value == \"\":\n",
    "        break\n",
    "    else:\n",
    "        List.append(value)\n",
    "print(List)"
   ]
  },
  {
   "cell_type": "markdown",
   "id": "9c61e63b",
   "metadata": {},
   "source": [
    "#### Code"
   ]
  },
  {
   "cell_type": "code",
   "execution_count": 2,
   "id": "3e3cdf86",
   "metadata": {},
   "outputs": [
    {
     "name": "stdout",
     "output_type": "stream",
     "text": [
      "{'đen': 0, 'vàng': 1, 'xanh': 2, 'đỏ': 3, 'hồng': 4}\n",
      "[0, 1, 2, 1, 2, 3, 4]\n"
     ]
    }
   ],
   "source": [
    "def mahoa(List):\n",
    "    bangma = {}\n",
    "    dem = 0\n",
    "    List_mahoa = []\n",
    "    for value in List:\n",
    "        if value not in bangma:\n",
    "            bangma[value] = dem\n",
    "            dem += 1\n",
    "        a = bangma[value]\n",
    "        List_mahoa.append(a)\n",
    "    print(bangma)\n",
    "    return List_mahoa\n",
    "List = [\"đen\",\"vàng\",\"xanh\",\"vàng\",\"xanh\",\"đỏ\",\"hồng\"]\n",
    "print(mahoa(List))"
   ]
  },
  {
   "cell_type": "markdown",
   "id": "8de66962",
   "metadata": {},
   "source": [
    "### Bài 5"
   ]
  },
  {
   "cell_type": "markdown",
   "id": "1e5c416d",
   "metadata": {},
   "source": [
    "Hãy viết hàm từ một list mã hóa, trả về list gốc của bài 4"
   ]
  },
  {
   "cell_type": "markdown",
   "id": "4881b7b0",
   "metadata": {},
   "source": [
    "#### Khai báo"
   ]
  },
  {
   "cell_type": "code",
   "execution_count": 9,
   "id": "602c7b70",
   "metadata": {},
   "outputs": [
    {
     "name": "stdout",
     "output_type": "stream",
     "text": [
      "dict_values([0, 1, 2, 3, 4])\n"
     ]
    },
    {
     "ename": "NameError",
     "evalue": "name 'dict_values' is not defined",
     "output_type": "error",
     "traceback": [
      "\u001b[1;31m---------------------------------------------------------------------------\u001b[0m",
      "\u001b[1;31mNameError\u001b[0m                                 Traceback (most recent call last)",
      "Input \u001b[1;32mIn [9]\u001b[0m, in \u001b[0;36m<cell line: 5>\u001b[1;34m()\u001b[0m\n\u001b[0;32m      4\u001b[0m bangma2 \u001b[38;5;241m=\u001b[39m {}\n\u001b[0;32m      5\u001b[0m \u001b[38;5;28;01mfor\u001b[39;00m i \u001b[38;5;129;01min\u001b[39;00m code:\n\u001b[1;32m----> 6\u001b[0m     bangma2[i] \u001b[38;5;241m=\u001b[39m code[\u001b[43mdict_values\u001b[49m[i]]\n\u001b[0;32m      7\u001b[0m \u001b[38;5;28mprint\u001b[39m(bangma2)\n",
      "\u001b[1;31mNameError\u001b[0m: name 'dict_values' is not defined"
     ]
    }
   ],
   "source": [
    "bangma = {'đen': 0, 'vàng': 1, 'xanh': 2, 'đỏ': 3, 'hồng': 4}\n",
    "code = bangma.values()\n",
    "print(code)\n",
    "bangma2 = {}\n",
    "for i in code:\n",
    "    bangma2[i] = code[dict_values[i]]\n",
    "print(bangma2)"
   ]
  },
  {
   "cell_type": "markdown",
   "id": "9a738638",
   "metadata": {},
   "source": [
    "#### Code"
   ]
  },
  {
   "cell_type": "code",
   "execution_count": 12,
   "id": "df4fb3a1",
   "metadata": {},
   "outputs": [
    {
     "name": "stdout",
     "output_type": "stream",
     "text": [
      "Đen\n",
      "Vàng\n",
      "Xanh\n",
      "Vàng\n",
      "Xanh\n",
      "Đỏ\n",
      "Hồng\n",
      "['Đen', 'Vàng', 'Xanh', 'Vàng', 'Xanh', 'Đỏ', 'Hồng']\n"
     ]
    }
   ],
   "source": [
    "L_mahoa = [0, 1, 2, 1, 2, 3, 4]\n",
    "D_mahoa = {'Đen':0,'Vàng':1,'Xanh':2,'Đỏ':3,'Hồng':4}\n",
    "def mahoanguoc(L_mahoa,D_mahoa):\n",
    "    L = []\n",
    "    for value in L_mahoa:\n",
    "        for key in D_mahoa:\n",
    "            if value == D_mahoa[key]:\n",
    "                print(key)\n",
    "                L.append(key)\n",
    "    return L\n",
    "print(mahoanguoc(L_mahoa,D_mahoa))"
   ]
  },
  {
   "cell_type": "code",
   "execution_count": 13,
   "id": "02726681",
   "metadata": {},
   "outputs": [
    {
     "name": "stdout",
     "output_type": "stream",
     "text": [
      "['Đen', 'Vàng', 'Xanh', 'Vàng', 'Xanh', 'Đỏ', 'Hồng']\n"
     ]
    }
   ],
   "source": [
    "L_mahoa = [0, 1, 2, 1, 2, 3, 4]\n",
    "D_mahoa = {'Đen':0,'Vàng':1,'Xanh':2,'Đỏ':3,'Hồng':4}\n",
    "def mahoanguoc(L_mahoa,D_mahoa):\n",
    "    D = {}\n",
    "    L = []\n",
    "    for key in D_mahoa:\n",
    "        D[D_mahoa[key]] = key\n",
    "    for value in L_mahoa:\n",
    "        L.append(D[value])\n",
    "    return L\n",
    "print(mahoanguoc(L_mahoa,D_mahoa))\n",
    "        "
   ]
  },
  {
   "cell_type": "markdown",
   "id": "1a982dc5",
   "metadata": {},
   "source": [
    "### Bài 6"
   ]
  },
  {
   "cell_type": "markdown",
   "id": "726f6302",
   "metadata": {},
   "source": [
    "Một khách sạn có N phòng đôi được đánh số từ 1 đến N và M đoàn khách.\n",
    "\n",
    "Với mỗi đoàn khách, ta xếp mỗi cặp khách của đoàn vào một phòng trống theo thứ tự phòng tăng dần.\n",
    "\n",
    "Nếu đoàn khách có số người lẻ thì người khách cuối cùng được xếp vào một phòng trống tiếp theo.\n",
    "\n",
    "Nếu đã hết phòng còn trống thì ta sẽ xếp khách vào những phòng mới chỉ có 1 khách theo thứ tự phòng tăng dần.\n",
    "\n",
    "In ra số khách của mỗi phòng sau khi xếp\n",
    "\n",
    "Giả sử không có 2 đoàn khách nào đến cùng một lúc.\n",
    "\n",
    "#### Ví dụ 1:\n",
    "\n",
    "N = 7, M = 3\n",
    "\n",
    "doankhach = [3,7,3]\n",
    "\n",
    "Ta in: 2, 2, 2, 2, 2, 1, 2\n",
    "\n",
    "#### Ví dụ 2:\n",
    "\n",
    "N = 5, M = 3\n",
    "\n",
    "doankhach = [2,3,2]\n",
    "\n",
    "Ta in: 2, 2, 1, 2, 0"
   ]
  },
  {
   "cell_type": "markdown",
   "id": "e3346872",
   "metadata": {},
   "source": [
    "#### Khai báo"
   ]
  },
  {
   "cell_type": "code",
   "execution_count": null,
   "id": "9f73da45",
   "metadata": {},
   "outputs": [],
   "source": [
    "N = 7 \n",
    "M = 3\n",
    "\n",
    "L_doankhach = [3,7,3]\n",
    "L_phong = [0]*N\n",
    "sophong = 0\n",
    "hetphong = False\n",
    "\n"
   ]
  },
  {
   "cell_type": "markdown",
   "id": "8f3d747c",
   "metadata": {},
   "source": [
    "#### Code"
   ]
  },
  {
   "cell_type": "code",
   "execution_count": 18,
   "id": "b19e56c9",
   "metadata": {},
   "outputs": [
    {
     "name": "stdout",
     "output_type": "stream",
     "text": [
      "[2, 1, 2, 2, 2, 1, 2, 1]\n"
     ]
    }
   ],
   "source": [
    "N = 7 \n",
    "M = 3\n",
    "\n",
    "doankhach = [3,7,3]\n",
    "\n",
    "def xepphong(N,M,doankhach):\n",
    "    L = []\n",
    "    while len(L) < N:\n",
    "        for i in range(M):\n",
    "            a = doankhach[i]\n",
    "            while a >= 2:\n",
    "                L.append(2)\n",
    "                a -= 2\n",
    "            if a == 1:\n",
    "                L.append(1)\n",
    "    return L\n",
    "print(xepphong(N,M,doankhach))\n",
    "        "
   ]
  }
 ],
 "metadata": {
  "kernelspec": {
   "display_name": "Python 3 (ipykernel)",
   "language": "python",
   "name": "python3"
  },
  "language_info": {
   "codemirror_mode": {
    "name": "ipython",
    "version": 3
   },
   "file_extension": ".py",
   "mimetype": "text/x-python",
   "name": "python",
   "nbconvert_exporter": "python",
   "pygments_lexer": "ipython3",
   "version": "3.10.4"
  }
 },
 "nbformat": 4,
 "nbformat_minor": 5
}
